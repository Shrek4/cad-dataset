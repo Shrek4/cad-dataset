{
 "cells": [
  {
   "cell_type": "code",
   "execution_count": 1,
   "metadata": {},
   "outputs": [],
   "source": [
    "\n",
    "from keras import layers\n",
    "from keras import models\n",
    "from keras.datasets import mnist\n",
    "from keras.utils import to_categorical\n",
    "from keras.preprocessing.image import ImageDataGenerator\n",
    "import cv2\n",
    "import numpy as np\n",
    "import matplotlib.pyplot as plt\n",
    "from PIL import Image"
   ]
  },
  {
   "cell_type": "code",
   "execution_count": 2,
   "metadata": {},
   "outputs": [],
   "source": [
    "# Каталог с данными для обучения\n",
    "train_dir = 'cadmnist2/train'\n",
    "# Каталог с данными для проверки\n",
    "val_dir = 'cadmnist2/val'\n",
    "# Каталог с данными для тестирования\n",
    "test_dir = 'cadmnist2/test'\n",
    "# Размеры изображения\n",
    "img_width, img_height = 150, 150\n",
    "# Размерность тензора на основе изображения для входных данных в нейронную сеть\n",
    "# backend Tensorflow, channels_last\n",
    "input_shape = (img_width, img_height, 1)\n",
    "# Количество эпох\n",
    "epochs = 20\n",
    "# Размер мини-выборки\n",
    "batch_size = 16\n",
    "# Количество изображений для обучения\n",
    "nb_train_samples = 578\n",
    "# Количество изображений для проверки\n",
    "nb_validation_samples = 187\n",
    "# Количество изображений для тестирования\n",
    "# nb_test_samples = 86\n",
    "# количество классов\n",
    "num_classes=5"
   ]
  },
  {
   "cell_type": "code",
   "execution_count": 3,
   "metadata": {},
   "outputs": [
    {
     "name": "stdout",
     "output_type": "stream",
     "text": [
      "Model: \"sequential\"\n",
      "_________________________________________________________________\n",
      " Layer (type)                Output Shape              Param #   \n",
      "=================================================================\n",
      " conv2d (Conv2D)             (None, 148, 148, 128)     1280      \n",
      "                                                                 \n",
      " activation (Activation)     (None, 148, 148, 128)     0         \n",
      "                                                                 \n",
      " max_pooling2d (MaxPooling2D  (None, 74, 74, 128)      0         \n",
      " )                                                               \n",
      "                                                                 \n",
      " conv2d_1 (Conv2D)           (None, 72, 72, 128)       147584    \n",
      "                                                                 \n",
      " activation_1 (Activation)   (None, 72, 72, 128)       0         \n",
      "                                                                 \n",
      " max_pooling2d_1 (MaxPooling  (None, 36, 36, 128)      0         \n",
      " 2D)                                                             \n",
      "                                                                 \n",
      " conv2d_2 (Conv2D)           (None, 34, 34, 256)       295168    \n",
      "                                                                 \n",
      " activation_2 (Activation)   (None, 34, 34, 256)       0         \n",
      "                                                                 \n",
      " max_pooling2d_2 (MaxPooling  (None, 17, 17, 256)      0         \n",
      " 2D)                                                             \n",
      "                                                                 \n",
      " flatten (Flatten)           (None, 73984)             0         \n",
      "                                                                 \n",
      " dense (Dense)               (None, 256)               18940160  \n",
      "                                                                 \n",
      " activation_3 (Activation)   (None, 256)               0         \n",
      "                                                                 \n",
      " dense_1 (Dense)             (None, 5)                 1285      \n",
      "                                                                 \n",
      " activation_4 (Activation)   (None, 5)                 0         \n",
      "                                                                 \n",
      "=================================================================\n",
      "Total params: 19,385,477\n",
      "Trainable params: 19,385,477\n",
      "Non-trainable params: 0\n",
      "_________________________________________________________________\n"
     ]
    }
   ],
   "source": [
    "model = models.Sequential()\n",
    "\n",
    "model.add(layers.Conv2D(128, (3, 3), input_shape=input_shape))\n",
    "model.add(layers.Activation('relu'))\n",
    "model.add(layers.MaxPooling2D(pool_size=(2, 2)))\n",
    "\n",
    "model.add(layers.Conv2D(128, (3, 3)))\n",
    "model.add(layers.Activation('relu'))\n",
    "model.add(layers.MaxPooling2D(pool_size=(2, 2)))\n",
    "\n",
    "model.add(layers.Conv2D(256, (3, 3)))\n",
    "model.add(layers.Activation('relu'))\n",
    "model.add(layers.MaxPooling2D(pool_size=(2, 2)))\n",
    "\n",
    "model.add(layers.Flatten())\n",
    "model.add(layers.Dense(256))\n",
    "model.add(layers.Activation('relu'))\n",
    "model.add(layers.Dense(num_classes))\n",
    "model.add(layers.Activation('softmax'))\n",
    "model.summary()"
   ]
  },
  {
   "cell_type": "code",
   "execution_count": 4,
   "metadata": {},
   "outputs": [
    {
     "name": "stdout",
     "output_type": "stream",
     "text": [
      "Found 578 images belonging to 5 classes.\n",
      "Found 187 images belonging to 5 classes.\n"
     ]
    }
   ],
   "source": [
    "\n",
    "\n",
    "datagen = ImageDataGenerator(rescale=1. / 255, width_shift_range=5, height_shift_range=5)\n",
    "\n",
    "train_generator = datagen.flow_from_directory(\n",
    "    train_dir,\n",
    "    target_size=(img_width, img_height),\n",
    "    color_mode='grayscale',\n",
    "    batch_size=batch_size,\n",
    "    class_mode='categorical',\n",
    "    seed=1)\n",
    "\n",
    "val_generator = datagen.flow_from_directory(\n",
    "    val_dir,\n",
    "    target_size=(img_width, img_height),\n",
    "    color_mode='grayscale',\n",
    "    batch_size=batch_size,\n",
    "    class_mode='categorical',\n",
    "    seed=1)\n",
    "\n",
    "# test_generator = datagen.flow_from_directory(\n",
    "#     test_dir,\n",
    "#     target_size=(img_width, img_height),\n",
    "#     color_mode='grayscale',\n",
    "#     batch_size=batch_size,\n",
    "#     class_mode='categorical')"
   ]
  },
  {
   "cell_type": "code",
   "execution_count": 5,
   "metadata": {},
   "outputs": [],
   "source": [
    "# x,y=train_generator.next()\n",
    "# print(x.shape)\n",
    "# plt.imshow(x[0])\n",
    "# print(y[0])"
   ]
  },
  {
   "cell_type": "code",
   "execution_count": 6,
   "metadata": {},
   "outputs": [],
   "source": [
    "model.compile(loss='categorical_crossentropy',\n",
    "              optimizer='adam',\n",
    "              metrics=['accuracy'])"
   ]
  },
  {
   "cell_type": "code",
   "execution_count": 7,
   "metadata": {},
   "outputs": [
    {
     "name": "stdout",
     "output_type": "stream",
     "text": [
      "Epoch 1/20\n",
      "36/36 [==============================] - 54s 1s/step - loss: 0.9554 - accuracy: 0.6423 - val_loss: 0.4666 - val_accuracy: 0.8864\n",
      "Epoch 2/20\n",
      "36/36 [==============================] - 59s 2s/step - loss: 0.3761 - accuracy: 0.8843 - val_loss: 0.2945 - val_accuracy: 0.9205\n",
      "Epoch 3/20\n",
      "36/36 [==============================] - 54s 1s/step - loss: 0.1816 - accuracy: 0.9395 - val_loss: 0.3531 - val_accuracy: 0.9205\n",
      "Epoch 4/20\n",
      "36/36 [==============================] - 56s 2s/step - loss: 0.1545 - accuracy: 0.9573 - val_loss: 0.2133 - val_accuracy: 0.9375\n",
      "Epoch 5/20\n",
      "36/36 [==============================] - 54s 2s/step - loss: 0.1253 - accuracy: 0.9555 - val_loss: 0.2214 - val_accuracy: 0.9318\n",
      "Epoch 6/20\n",
      "36/36 [==============================] - 69s 2s/step - loss: 0.0652 - accuracy: 0.9769 - val_loss: 0.2052 - val_accuracy: 0.9375\n",
      "Epoch 7/20\n",
      "36/36 [==============================] - 55s 2s/step - loss: 0.0782 - accuracy: 0.9769 - val_loss: 0.4484 - val_accuracy: 0.9034\n",
      "Epoch 8/20\n",
      "36/36 [==============================] - 55s 2s/step - loss: 0.1122 - accuracy: 0.9591 - val_loss: 0.3230 - val_accuracy: 0.9318\n",
      "Epoch 9/20\n",
      "36/36 [==============================] - 56s 2s/step - loss: 0.0666 - accuracy: 0.9822 - val_loss: 0.2642 - val_accuracy: 0.9318\n",
      "Epoch 10/20\n",
      "36/36 [==============================] - 53s 1s/step - loss: 0.0826 - accuracy: 0.9751 - val_loss: 0.2618 - val_accuracy: 0.9432\n",
      "Epoch 11/20\n",
      "36/36 [==============================] - 50s 1s/step - loss: 0.0372 - accuracy: 0.9893 - val_loss: 0.2163 - val_accuracy: 0.9602\n",
      "Epoch 12/20\n",
      "36/36 [==============================] - 56s 2s/step - loss: 0.0156 - accuracy: 0.9964 - val_loss: 0.1601 - val_accuracy: 0.9602\n",
      "Epoch 13/20\n",
      "36/36 [==============================] - 53s 1s/step - loss: 0.0079 - accuracy: 0.9964 - val_loss: 0.2546 - val_accuracy: 0.9659\n",
      "Epoch 14/20\n",
      "36/36 [==============================] - 54s 2s/step - loss: 0.0274 - accuracy: 0.9929 - val_loss: 0.2305 - val_accuracy: 0.9716\n",
      "Epoch 15/20\n",
      "36/36 [==============================] - 55s 2s/step - loss: 0.0202 - accuracy: 0.9893 - val_loss: 0.1633 - val_accuracy: 0.9716\n",
      "Epoch 16/20\n",
      "36/36 [==============================] - 54s 1s/step - loss: 0.0178 - accuracy: 0.9929 - val_loss: 0.2788 - val_accuracy: 0.9659\n",
      "Epoch 17/20\n",
      "36/36 [==============================] - 57s 2s/step - loss: 0.0087 - accuracy: 0.9982 - val_loss: 0.3010 - val_accuracy: 0.9545\n",
      "Epoch 18/20\n",
      "36/36 [==============================] - 52s 1s/step - loss: 0.0161 - accuracy: 0.9929 - val_loss: 0.3077 - val_accuracy: 0.9602\n",
      "Epoch 19/20\n",
      "36/36 [==============================] - 47s 1s/step - loss: 0.0362 - accuracy: 0.9911 - val_loss: 0.4273 - val_accuracy: 0.9602\n",
      "Epoch 20/20\n",
      "36/36 [==============================] - 48s 1s/step - loss: 0.0553 - accuracy: 0.9858 - val_loss: 0.2854 - val_accuracy: 0.9489\n"
     ]
    },
    {
     "data": {
      "text/plain": [
       "<keras.callbacks.History at 0x1e61cdd0310>"
      ]
     },
     "execution_count": 7,
     "metadata": {},
     "output_type": "execute_result"
    }
   ],
   "source": [
    "model.fit(\n",
    "    train_generator,\n",
    "    steps_per_epoch=nb_train_samples // batch_size,\n",
    "    epochs=epochs,\n",
    "    validation_data=val_generator,\n",
    "    validation_steps=nb_validation_samples // batch_size)"
   ]
  },
  {
   "cell_type": "code",
   "execution_count": 8,
   "metadata": {},
   "outputs": [],
   "source": [
    "model.save('cadmnist.h5')"
   ]
  },
  {
   "cell_type": "code",
   "execution_count": 9,
   "metadata": {},
   "outputs": [],
   "source": [
    "def make_square(img, max_size, fill_color):\n",
    "    # find image dimensions\n",
    "    old_img = Image.fromarray(img)\n",
    "    size = (min(max_size, max(old_img.size)),) * 2\n",
    "\n",
    "    # resize if old image is larger than max_size\n",
    "    if size[0] < old_img.size[0] or size[1] < old_img.size[1]:\n",
    "        old_img.thumbnail(size)\n",
    "\n",
    "    # create new image with the given color and computed size\n",
    "    new_img = Image.new(old_img.mode, size, fill_color)\n",
    "\n",
    "    # find coordinates of upper-left corner to center the old image in the new image\n",
    "    assert new_img.size[0] >= old_img.size[0]\n",
    "    assert new_img.size[1] >= old_img.size[1]\n",
    "\n",
    "    x = (new_img.size[0] - old_img.size[0]) // 2\n",
    "    y = (new_img.size[1] - old_img.size[1]) // 2\n",
    "\n",
    "    # paste image\n",
    "    new_img.paste(old_img, (x, y))\n",
    "\n",
    "    # save image\n",
    "    if(max(new_img.size)<img_width):\n",
    "        new_img=new_img.resize((img_width,img_height))\n",
    "    return np.array(new_img)\n",
    "\n",
    "def prepare(img):\n",
    "    ret, th = cv2.threshold(img, 0, 255, cv2.THRESH_BINARY_INV + cv2.THRESH_OTSU)\n",
    "    padded= np.pad(th, ((5, 5), (5, 5)), \"constant\", constant_values=0)\n",
    "    squared=make_square(padded, img_height, 0)\n",
    "    ret, th = cv2.threshold(squared, 0, 255, cv2.THRESH_OTSU)\n",
    "    return th\n"
   ]
  },
  {
   "cell_type": "code",
   "execution_count": 10,
   "metadata": {},
   "outputs": [
    {
     "name": "stdout",
     "output_type": "stream",
     "text": [
      "1/1 [==============================] - 0s 183ms/step\n",
      "bearing 100%\n",
      "1/1 [==============================] - 0s 51ms/step\n",
      "bolt 100%\n",
      "1/1 [==============================] - 0s 47ms/step\n",
      "nut 100%\n",
      "1/1 [==============================] - 0s 48ms/step\n",
      "seal 100%\n",
      "1/1 [==============================] - 0s 50ms/step\n",
      "washer 100%\n"
     ]
    },
    {
     "data": {
      "image/png": "[encoded data removed]",
      "text/plain": [
       "<Figure size 640x480 with 1 Axes>"
      ]
     },
     "metadata": {},
     "output_type": "display_data"
    }
   ],
   "source": [
    "model = models.load_model('cadmnist.h5')\n",
    "classes=[\"bearing\", \"bolt\", \"nut\", \"seal\", \"washer\"]\n",
    "\n",
    "img=cv2.imread(test_dir+'/bearing.jpg', cv2.IMREAD_GRAYSCALE)\n",
    "img=prepare(img)\n",
    "img=img.reshape((1,img_width,img_height,1))\n",
    "pred = model.predict(img)[0]\n",
    "final_pred = np.argmax(pred)\n",
    "data = classes[final_pred] + ' ' + str(int(max(pred) * 100)) + '%'\n",
    "plt.imshow(img.reshape((img_width,img_height)), cmap='gray')\n",
    "print(data)\n",
    "\n",
    "img=cv2.imread(test_dir+'/bolt.jpg', cv2.IMREAD_GRAYSCALE)\n",
    "img=prepare(img)\n",
    "img=img.reshape((1,img_width,img_height,1))\n",
    "pred = model.predict(img)[0]\n",
    "final_pred = np.argmax(pred)\n",
    "data = classes[final_pred] + ' ' + str(int(max(pred) * 100)) + '%'\n",
    "plt.imshow(img.reshape((img_width,img_height)), cmap='gray')\n",
    "print(data)\n",
    "\n",
    "img=cv2.imread(test_dir+'/nut.jpg', cv2.IMREAD_GRAYSCALE)\n",
    "img=prepare(img)\n",
    "img=img.reshape((1,img_width,img_height,1))\n",
    "pred = model.predict(img)[0]\n",
    "final_pred = np.argmax(pred)\n",
    "data = classes[final_pred] + ' ' + str(int(max(pred) * 100)) + '%'\n",
    "plt.imshow(img.reshape((img_width,img_height)), cmap='gray')\n",
    "print(data)\n",
    "\n",
    "img=cv2.imread(test_dir+'/seal.jpg', cv2.IMREAD_GRAYSCALE)\n",
    "img=prepare(img)\n",
    "img=img.reshape((1,img_width,img_height,1))\n",
    "pred = model.predict(img)[0]\n",
    "final_pred = np.argmax(pred)\n",
    "data = classes[final_pred] + ' ' + str(int(max(pred) * 100)) + '%'\n",
    "plt.imshow(img.reshape((img_width,img_height)), cmap='gray')\n",
    "print(data)\n",
    "\n",
    "img=cv2.imread(test_dir+'/washer.jpg', cv2.IMREAD_GRAYSCALE)\n",
    "img=prepare(img)\n",
    "img=img.reshape((1,img_width,img_height,1))\n",
    "pred = model.predict(img)[0]\n",
    "final_pred = np.argmax(pred)\n",
    "data = classes[final_pred] + ' ' + str(int(max(pred) * 100)) + '%'\n",
    "plt.imshow(img.reshape((img_width,img_height)), cmap='gray')\n",
    "print(data)"
   ]
  }
 ],
 "metadata": {
  "kernelspec": {
   "display_name": "Python 3",
   "language": "python",
   "name": "python3"
  },
  "language_info": {
   "codemirror_mode": {
    "name": "ipython",
    "version": 3
   },
   "file_extension": ".py",
   "mimetype": "text/x-python",
   "name": "python",
   "nbconvert_exporter": "python",
   "pygments_lexer": "ipython3",
   "version": "3.10.7"
  },
  "orig_nbformat": 4,
  "vscode": {
   "interpreter": {
    "hash": "a1df27bbbad40ecdaee24acfc89f0b5773272cabcb6b66c54293a258d4db6eb4"
   }
  }
 },
 "nbformat": 4,
 "nbformat_minor": 2
}
