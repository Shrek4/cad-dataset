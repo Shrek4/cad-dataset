{
 "cells": [
  {
   "cell_type": "code",
   "execution_count": 1,
   "metadata": {},
   "outputs": [],
   "source": [
    "\n",
    "from keras import layers\n",
    "from keras import models\n",
    "from keras.utils import to_categorical\n",
    "from keras.preprocessing.image import ImageDataGenerator\n",
    "import cv2\n",
    "import numpy as np\n",
    "import matplotlib.pyplot as plt\n",
    "from PIL import Image"
   ]
  },
  {
   "cell_type": "code",
   "execution_count": 2,
   "metadata": {},
   "outputs": [],
   "source": [
    "# Каталог с данными для обучения\n",
    "train_dir = 'cadmnist_big/train'\n",
    "# Каталог с данными для проверки\n",
    "val_dir = 'cadmnist_big/val'\n",
    "# Каталог с данными для тестирования\n",
    "test_dir = 'cadmnist_big/test'\n",
    "# Размеры изображения\n",
    "img_width, img_height = 128, 128\n",
    "# Размерность тензора на основе изображения для входных данных в нейронную сеть\n",
    "# backend Tensorflow, channels_last\n",
    "input_shape = (img_width, img_height, 1)\n",
    "# Количество эпох\n",
    "epochs = 20\n",
    "# Размер мини-выборки\n",
    "batch_size = 16\n",
    "# Количество изображений для обучения\n",
    "nb_train_samples = 1128\n",
    "# Количество изображений для проверки\n",
    "nb_validation_samples = 376\n",
    "# количество классов\n",
    "num_classes=5"
   ]
  },
  {
   "cell_type": "code",
   "execution_count": 3,
   "metadata": {},
   "outputs": [
    {
     "name": "stdout",
     "output_type": "stream",
     "text": [
      "Model: \"sequential\"\n",
      "_________________________________________________________________\n",
      " Layer (type)                Output Shape              Param #   \n",
      "=================================================================\n",
      " conv2d (Conv2D)             (None, 126, 126, 128)     1280      \n",
      "                                                                 \n",
      " activation (Activation)     (None, 126, 126, 128)     0         \n",
      "                                                                 \n",
      " max_pooling2d (MaxPooling2D  (None, 63, 63, 128)      0         \n",
      " )                                                               \n",
      "                                                                 \n",
      " conv2d_1 (Conv2D)           (None, 61, 61, 128)       147584    \n",
      "                                                                 \n",
      " activation_1 (Activation)   (None, 61, 61, 128)       0         \n",
      "                                                                 \n",
      " max_pooling2d_1 (MaxPooling  (None, 30, 30, 128)      0         \n",
      " 2D)                                                             \n",
      "                                                                 \n",
      " conv2d_2 (Conv2D)           (None, 28, 28, 256)       295168    \n",
      "                                                                 \n",
      " activation_2 (Activation)   (None, 28, 28, 256)       0         \n",
      "                                                                 \n",
      " max_pooling2d_2 (MaxPooling  (None, 14, 14, 256)      0         \n",
      " 2D)                                                             \n",
      "                                                                 \n",
      " flatten (Flatten)           (None, 50176)             0         \n",
      "                                                                 \n",
      " dense (Dense)               (None, 256)               12845312  \n",
      "                                                                 \n",
      " activation_3 (Activation)   (None, 256)               0         \n",
      "                                                                 \n",
      " dense_1 (Dense)             (None, 5)                 1285      \n",
      "                                                                 \n",
      " activation_4 (Activation)   (None, 5)                 0         \n",
      "                                                                 \n",
      "=================================================================\n",
      "Total params: 13,290,629\n",
      "Trainable params: 13,290,629\n",
      "Non-trainable params: 0\n",
      "_________________________________________________________________\n"
     ]
    }
   ],
   "source": [
    "model = models.Sequential()\n",
    "\n",
    "model.add(layers.Conv2D(128, (3, 3), input_shape=input_shape))\n",
    "model.add(layers.Activation('relu'))\n",
    "model.add(layers.MaxPooling2D(pool_size=(2, 2)))\n",
    "\n",
    "model.add(layers.Conv2D(128, (3, 3)))\n",
    "model.add(layers.Activation('relu'))\n",
    "model.add(layers.MaxPooling2D(pool_size=(2, 2)))\n",
    "\n",
    "model.add(layers.Conv2D(256, (3, 3)))\n",
    "model.add(layers.Activation('relu'))\n",
    "model.add(layers.MaxPooling2D(pool_size=(2, 2)))\n",
    "\n",
    "model.add(layers.Flatten())\n",
    "model.add(layers.Dense(256))\n",
    "model.add(layers.Activation('relu'))\n",
    "model.add(layers.Dense(num_classes))\n",
    "model.add(layers.Activation('softmax'))\n",
    "model.summary()"
   ]
  },
  {
   "cell_type": "code",
   "execution_count": 4,
   "metadata": {},
   "outputs": [
    {
     "name": "stdout",
     "output_type": "stream",
     "text": [
      "Found 1128 images belonging to 5 classes.\n",
      "Found 376 images belonging to 5 classes.\n",
      "Found 23 images belonging to 5 classes.\n"
     ]
    }
   ],
   "source": [
    "\n",
    "\n",
    "datagen = ImageDataGenerator(rescale=1. / 255, width_shift_range=5, height_shift_range=5)\n",
    "\n",
    "train_generator = datagen.flow_from_directory(\n",
    "    train_dir,\n",
    "    target_size=(img_width, img_height),\n",
    "    color_mode='grayscale',\n",
    "    batch_size=batch_size,\n",
    "    class_mode='categorical',\n",
    "    seed=1)\n",
    "\n",
    "val_generator = datagen.flow_from_directory(\n",
    "    val_dir,\n",
    "    target_size=(img_width, img_height),\n",
    "    color_mode='grayscale',\n",
    "    batch_size=batch_size,\n",
    "    class_mode='categorical',\n",
    "    seed=1)\n",
    "\n",
    "test_generator = datagen.flow_from_directory(\n",
    "    test_dir,\n",
    "    target_size=(img_width, img_height),\n",
    "    color_mode='grayscale',\n",
    "    batch_size=batch_size,\n",
    "    class_mode='categorical')"
   ]
  },
  {
   "cell_type": "code",
   "execution_count": 5,
   "metadata": {},
   "outputs": [],
   "source": [
    "model.compile(loss='categorical_crossentropy',\n",
    "              optimizer='adam',\n",
    "              metrics=['accuracy'])"
   ]
  },
  {
   "cell_type": "code",
   "execution_count": 6,
   "metadata": {},
   "outputs": [
    {
     "name": "stdout",
     "output_type": "stream",
     "text": [
      "Epoch 1/20\n",
      "70/70 [==============================] - 77s 1s/step - loss: 1.0522 - accuracy: 0.5827 - val_loss: 0.6120 - val_accuracy: 0.8016\n",
      "Epoch 2/20\n",
      "70/70 [==============================] - 68s 966ms/step - loss: 0.5112 - accuracy: 0.8363 - val_loss: 0.5761 - val_accuracy: 0.8207\n",
      "Epoch 3/20\n",
      "70/70 [==============================] - 62s 892ms/step - loss: 0.3509 - accuracy: 0.8903 - val_loss: 0.3785 - val_accuracy: 0.8832\n",
      "Epoch 4/20\n",
      "70/70 [==============================] - 70s 1s/step - loss: 0.2559 - accuracy: 0.9227 - val_loss: 0.3139 - val_accuracy: 0.8995\n",
      "Epoch 5/20\n",
      "70/70 [==============================] - 70s 1s/step - loss: 0.2031 - accuracy: 0.9254 - val_loss: 0.3021 - val_accuracy: 0.9212\n",
      "Epoch 6/20\n",
      "70/70 [==============================] - 66s 943ms/step - loss: 0.1343 - accuracy: 0.9613 - val_loss: 0.2916 - val_accuracy: 0.9049\n",
      "Epoch 7/20\n",
      "70/70 [==============================] - 72s 1s/step - loss: 0.1508 - accuracy: 0.9523 - val_loss: 0.3192 - val_accuracy: 0.9076\n",
      "Epoch 8/20\n",
      "70/70 [==============================] - 74s 1s/step - loss: 0.1000 - accuracy: 0.9676 - val_loss: 0.2939 - val_accuracy: 0.9266\n",
      "Epoch 9/20\n",
      "70/70 [==============================] - 68s 971ms/step - loss: 0.0643 - accuracy: 0.9820 - val_loss: 0.3687 - val_accuracy: 0.9375\n",
      "Epoch 10/20\n",
      "70/70 [==============================] - 68s 973ms/step - loss: 0.0836 - accuracy: 0.9775 - val_loss: 0.3308 - val_accuracy: 0.9348\n",
      "Epoch 11/20\n",
      "70/70 [==============================] - 80s 1s/step - loss: 0.0583 - accuracy: 0.9829 - val_loss: 0.3814 - val_accuracy: 0.9130\n",
      "Epoch 12/20\n",
      "70/70 [==============================] - 61s 864ms/step - loss: 0.0457 - accuracy: 0.9847 - val_loss: 0.3511 - val_accuracy: 0.9239\n",
      "Epoch 13/20\n",
      "70/70 [==============================] - 65s 924ms/step - loss: 0.0755 - accuracy: 0.9775 - val_loss: 0.2741 - val_accuracy: 0.9239\n",
      "Epoch 14/20\n",
      "70/70 [==============================] - 72s 1s/step - loss: 0.0385 - accuracy: 0.9874 - val_loss: 0.3290 - val_accuracy: 0.9212\n",
      "Epoch 15/20\n",
      "70/70 [==============================] - 67s 961ms/step - loss: 0.0558 - accuracy: 0.9820 - val_loss: 0.2522 - val_accuracy: 0.9402\n",
      "Epoch 16/20\n",
      "70/70 [==============================] - 70s 1s/step - loss: 0.0422 - accuracy: 0.9910 - val_loss: 0.2724 - val_accuracy: 0.9348\n",
      "Epoch 17/20\n",
      "70/70 [==============================] - 66s 947ms/step - loss: 0.0407 - accuracy: 0.9838 - val_loss: 0.2471 - val_accuracy: 0.9375\n",
      "Epoch 18/20\n",
      "70/70 [==============================] - 66s 942ms/step - loss: 0.0457 - accuracy: 0.9838 - val_loss: 0.3300 - val_accuracy: 0.9185\n",
      "Epoch 19/20\n",
      "70/70 [==============================] - 75s 1s/step - loss: 0.0680 - accuracy: 0.9766 - val_loss: 0.2837 - val_accuracy: 0.9266\n",
      "Epoch 20/20\n",
      "70/70 [==============================] - 71s 1s/step - loss: 0.0493 - accuracy: 0.9865 - val_loss: 0.2582 - val_accuracy: 0.9185\n"
     ]
    },
    {
     "data": {
      "text/plain": [
       "<keras.callbacks.History at 0x16e9a2b01c0>"
      ]
     },
     "execution_count": 6,
     "metadata": {},
     "output_type": "execute_result"
    }
   ],
   "source": [
    "# обучение модели\n",
    "model.fit(\n",
    "    train_generator,\n",
    "    steps_per_epoch=nb_train_samples // batch_size,\n",
    "    epochs=epochs,\n",
    "    validation_data=val_generator,\n",
    "    validation_steps=nb_validation_samples // batch_size)"
   ]
  },
  {
   "cell_type": "code",
   "execution_count": 7,
   "metadata": {},
   "outputs": [
    {
     "name": "stdout",
     "output_type": "stream",
     "text": [
      "2/2 [==============================] - 1s 174ms/step - loss: 1.8547 - accuracy: 0.8261\n",
      "Test Loss: 1.854739785194397\n",
      "Test Accuracy: 0.8260869383811951\n"
     ]
    }
   ],
   "source": [
    "# Оценка производительности модели на тестовых данных\n",
    "loss, accuracy = model.evaluate(test_generator)\n",
    "\n",
    "print(\"Test Loss:\", loss)\n",
    "print(\"Test Accuracy:\", accuracy)"
   ]
  },
  {
   "cell_type": "code",
   "execution_count": 8,
   "metadata": {},
   "outputs": [],
   "source": [
    "model.save('cadmnistbig.h5')"
   ]
  },
  {
   "cell_type": "code",
   "execution_count": 9,
   "metadata": {},
   "outputs": [],
   "source": [
    "model = models.load_model('cadmnistbig.h5')"
   ]
  },
  {
   "cell_type": "code",
   "execution_count": 10,
   "metadata": {},
   "outputs": [],
   "source": [
    "def make_square(img, max_size, fill_color):\n",
    "    # получаем размеры изображения\n",
    "    old_img = Image.fromarray(img)\n",
    "    size = (min(max_size, max(old_img.size)),) * 2\n",
    "\n",
    "    # изменяем размер старой картинки если он превышает max_size\n",
    "    if size[0] < old_img.size[0] or size[1] < old_img.size[1]:\n",
    "        old_img.thumbnail(size)\n",
    "\n",
    "    # создаём новую картинку с заданным цветом и размером\n",
    "    new_img = Image.new(old_img.mode, size, fill_color)\n",
    "\n",
    "    # находим координаты верхнего левого угла старой картинки чтобы центрировать её\n",
    "    assert new_img.size[0] >= old_img.size[0]\n",
    "    assert new_img.size[1] >= old_img.size[1]\n",
    "\n",
    "    x = (new_img.size[0] - old_img.size[0]) // 2\n",
    "    y = (new_img.size[1] - old_img.size[1]) // 2\n",
    "\n",
    "    # вставляем картинку\n",
    "    new_img.paste(old_img, (x, y))\n",
    "\n",
    "    # сохраняем\n",
    "    if(max(new_img.size)<img_width):\n",
    "        new_img=new_img.resize((img_width,img_height))\n",
    "    return np.array(new_img)\n",
    "\n",
    "def prepare(img):\n",
    "    ret, th = cv2.threshold(img, 0, 255, cv2.THRESH_BINARY_INV + cv2.THRESH_OTSU)\n",
    "    padded= np.pad(th, ((5, 5), (5, 5)), \"constant\", constant_values=0)\n",
    "    squared=make_square(padded, img_height, 0)\n",
    "    ret, th = cv2.threshold(squared, 0, 255, cv2.THRESH_OTSU)\n",
    "    return th\n"
   ]
  },
  {
   "cell_type": "code",
   "execution_count": 11,
   "metadata": {},
   "outputs": [
    {
     "name": "stdout",
     "output_type": "stream",
     "text": [
      "1/1 [==============================] - 0s 322ms/step\n",
      "bearing 100%\n",
      "1/1 [==============================] - 0s 63ms/step\n",
      "bolt 100%\n",
      "1/1 [==============================] - 0s 55ms/step\n",
      "nut 100%\n",
      "1/1 [==============================] - 0s 44ms/step\n",
      "seal 100%\n",
      "1/1 [==============================] - 0s 55ms/step\n",
      "washer 100%\n"
     ]
    },
    {
     "data": {
      "image/png": "[encoded data removed]",
      "text/plain": [
       "<Figure size 640x480 with 1 Axes>"
      ]
     },
     "metadata": {},
     "output_type": "display_data"
    }
   ],
   "source": [
    "# проверка распознавания как в приложении\n",
    "classes=[\"bearing\", \"bolt\", \"nut\", \"seal\", \"washer\"]\n",
    "\n",
    "img=cv2.imread('test_imgs/bearing.jpg', cv2.IMREAD_GRAYSCALE)\n",
    "img=prepare(img)\n",
    "img=img.reshape((1,img_width,img_height,1))\n",
    "pred = model.predict(img)[0]\n",
    "final_pred = np.argmax(pred)\n",
    "data = classes[final_pred] + ' ' + str(int(max(pred) * 100)) + '%'\n",
    "plt.imshow(img.reshape((img_width,img_height)), cmap='gray')\n",
    "print(data)\n",
    "\n",
    "img=cv2.imread('test_imgs/bolt.jpg', cv2.IMREAD_GRAYSCALE)\n",
    "img=prepare(img)\n",
    "img=img.reshape((1,img_width,img_height,1))\n",
    "pred = model.predict(img)[0]\n",
    "final_pred = np.argmax(pred)\n",
    "data = classes[final_pred] + ' ' + str(int(max(pred) * 100)) + '%'\n",
    "plt.imshow(img.reshape((img_width,img_height)), cmap='gray')\n",
    "print(data)\n",
    "\n",
    "img=cv2.imread('test_imgs/nut.jpg', cv2.IMREAD_GRAYSCALE)\n",
    "img=prepare(img)\n",
    "img=img.reshape((1,img_width,img_height,1))\n",
    "pred = model.predict(img)[0]\n",
    "final_pred = np.argmax(pred)\n",
    "data = classes[final_pred] + ' ' + str(int(max(pred) * 100)) + '%'\n",
    "plt.imshow(img.reshape((img_width,img_height)), cmap='gray')\n",
    "print(data)\n",
    "\n",
    "img=cv2.imread('test_imgs/seal.jpg', cv2.IMREAD_GRAYSCALE)\n",
    "img=prepare(img)\n",
    "img=img.reshape((1,img_width,img_height,1))\n",
    "pred = model.predict(img)[0]\n",
    "final_pred = np.argmax(pred)\n",
    "data = classes[final_pred] + ' ' + str(int(max(pred) * 100)) + '%'\n",
    "plt.imshow(img.reshape((img_width,img_height)), cmap='gray')\n",
    "print(data)\n",
    "\n",
    "img=cv2.imread('test_imgs/washer.jpg', cv2.IMREAD_GRAYSCALE)\n",
    "img=prepare(img)\n",
    "img=img.reshape((1,img_width,img_height,1))\n",
    "pred = model.predict(img)[0]\n",
    "final_pred = np.argmax(pred)\n",
    "data = classes[final_pred] + ' ' + str(int(max(pred) * 100)) + '%'\n",
    "plt.imshow(img.reshape((img_width,img_height)), cmap='gray')\n",
    "print(data)"
   ]
  }
 ],
 "metadata": {
  "kernelspec": {
   "display_name": "Python 3",
   "language": "python",
   "name": "python3"
  },
  "language_info": {
   "codemirror_mode": {
    "name": "ipython",
    "version": 3
   },
   "file_extension": ".py",
   "mimetype": "text/x-python",
   "name": "python",
   "nbconvert_exporter": "python",
   "pygments_lexer": "ipython3",
   "version": "3.10.7"
  },
  "orig_nbformat": 4,
  "vscode": {
   "interpreter": {
    "hash": "a1df27bbbad40ecdaee24acfc89f0b5773272cabcb6b66c54293a258d4db6eb4"
   }
  }
 },
 "nbformat": 4,
 "nbformat_minor": 2
}
