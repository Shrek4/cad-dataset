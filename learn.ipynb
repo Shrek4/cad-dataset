{
 "cells": [
  {
   "cell_type": "code",
   "execution_count": 50,
   "metadata": {},
   "outputs": [],
   "source": [
    "\n",
    "from keras import layers\n",
    "from keras import models\n",
    "from keras.datasets import mnist\n",
    "from keras.utils import to_categorical\n",
    "from keras.preprocessing.image import ImageDataGenerator\n",
    "import cv2\n",
    "import numpy as np"
   ]
  },
  {
   "cell_type": "code",
   "execution_count": 51,
   "metadata": {},
   "outputs": [],
   "source": [
    "# Каталог с данными для обучения\n",
    "train_dir = 'cadmnist/train'\n",
    "# Каталог с данными для проверки\n",
    "val_dir = 'cadmnist/val'\n",
    "# Каталог с данными для тестирования\n",
    "test_dir = 'cadmnist/test'\n",
    "# Размеры изображения\n",
    "img_width, img_height = 150, 150\n",
    "# Размерность тензора на основе изображения для входных данных в нейронную сеть\n",
    "# backend Tensorflow, channels_last\n",
    "input_shape = (img_width, img_height, 1)\n",
    "# Количество эпох\n",
    "epochs = 10\n",
    "# Размер мини-выборки\n",
    "batch_size = 8\n",
    "# Количество изображений для обучения\n",
    "nb_train_samples = 464\n",
    "# Количество изображений для проверки\n",
    "nb_validation_samples = 149\n",
    "# Количество изображений для тестирования\n",
    "# nb_test_samples = 86\n",
    "# количество классов\n",
    "num_classes=5"
   ]
  },
  {
   "cell_type": "code",
   "execution_count": 52,
   "metadata": {},
   "outputs": [
    {
     "name": "stdout",
     "output_type": "stream",
     "text": [
      "Model: \"sequential_6\"\n",
      "_________________________________________________________________\n",
      " Layer (type)                Output Shape              Param #   \n",
      "=================================================================\n",
      " conv2d_18 (Conv2D)          (None, 148, 148, 32)      320       \n",
      "                                                                 \n",
      " activation_30 (Activation)  (None, 148, 148, 32)      0         \n",
      "                                                                 \n",
      " max_pooling2d_18 (MaxPoolin  (None, 74, 74, 32)       0         \n",
      " g2D)                                                            \n",
      "                                                                 \n",
      " conv2d_19 (Conv2D)          (None, 72, 72, 32)        9248      \n",
      "                                                                 \n",
      " activation_31 (Activation)  (None, 72, 72, 32)        0         \n",
      "                                                                 \n",
      " max_pooling2d_19 (MaxPoolin  (None, 36, 36, 32)       0         \n",
      " g2D)                                                            \n",
      "                                                                 \n",
      " conv2d_20 (Conv2D)          (None, 34, 34, 64)        18496     \n",
      "                                                                 \n",
      " activation_32 (Activation)  (None, 34, 34, 64)        0         \n",
      "                                                                 \n",
      " max_pooling2d_20 (MaxPoolin  (None, 17, 17, 64)       0         \n",
      " g2D)                                                            \n",
      "                                                                 \n",
      " flatten_6 (Flatten)         (None, 18496)             0         \n",
      "                                                                 \n",
      " dense_12 (Dense)            (None, 64)                1183808   \n",
      "                                                                 \n",
      " activation_33 (Activation)  (None, 64)                0         \n",
      "                                                                 \n",
      " dense_13 (Dense)            (None, 5)                 325       \n",
      "                                                                 \n",
      " activation_34 (Activation)  (None, 5)                 0         \n",
      "                                                                 \n",
      "=================================================================\n",
      "Total params: 1,212,197\n",
      "Trainable params: 1,212,197\n",
      "Non-trainable params: 0\n",
      "_________________________________________________________________\n"
     ]
    }
   ],
   "source": [
    "model = models.Sequential()\n",
    "# model.add(layers.Conv2D(32, (3, 3), activation='relu', input_shape=input_shape))\n",
    "# model.add(layers.MaxPooling2D((2, 2)))\n",
    "# model.add(layers.Conv2D(64, (3, 3), activation='relu'))\n",
    "# model.add(layers.MaxPooling2D((2, 2)))\n",
    "# model.add(layers.Conv2D(64, (3, 3), activation='relu'))\n",
    "\n",
    "# model.add(layers.Flatten())\n",
    "# model.add(layers.Dense(64, activation='relu'))\n",
    "# model.add(layers.Dense(num_classes, activation='softmax'))\n",
    "\n",
    "model.add(layers.Conv2D(32, (3, 3), input_shape=input_shape))\n",
    "model.add(layers.Activation('relu'))\n",
    "model.add(layers.MaxPooling2D(pool_size=(2, 2)))\n",
    "\n",
    "model.add(layers.Conv2D(32, (3, 3)))\n",
    "model.add(layers.Activation('relu'))\n",
    "model.add(layers.MaxPooling2D(pool_size=(2, 2)))\n",
    "\n",
    "model.add(layers.Conv2D(64, (3, 3)))\n",
    "model.add(layers.Activation('relu'))\n",
    "model.add(layers.MaxPooling2D(pool_size=(2, 2)))\n",
    "\n",
    "model.add(layers.Flatten())\n",
    "model.add(layers.Dense(64))\n",
    "model.add(layers.Activation('relu'))\n",
    "model.add(layers.Dense(5))\n",
    "model.add(layers.Activation('softmax'))\n",
    "model.summary()"
   ]
  },
  {
   "cell_type": "code",
   "execution_count": 53,
   "metadata": {},
   "outputs": [
    {
     "name": "stdout",
     "output_type": "stream",
     "text": [
      "Found 464 images belonging to 5 classes.\n",
      "Found 149 images belonging to 5 classes.\n"
     ]
    }
   ],
   "source": [
    "datagen = ImageDataGenerator(rescale=1. / 255)\n",
    "\n",
    "train_generator = datagen.flow_from_directory(\n",
    "    train_dir,\n",
    "    target_size=(img_width, img_height),\n",
    "    color_mode='grayscale',\n",
    "    batch_size=batch_size,\n",
    "    class_mode='categorical')\n",
    "\n",
    "val_generator = datagen.flow_from_directory(\n",
    "    val_dir,\n",
    "    target_size=(img_width, img_height),\n",
    "    color_mode='grayscale',\n",
    "    batch_size=batch_size,\n",
    "    class_mode='categorical')\n",
    "\n",
    "# test_generator = datagen.flow_from_directory(\n",
    "#     test_dir,\n",
    "#     target_size=(img_width, img_height),\n",
    "#     color_mode='grayscale',\n",
    "#     batch_size=batch_size,\n",
    "#     class_mode='categorical')"
   ]
  },
  {
   "cell_type": "code",
   "execution_count": 54,
   "metadata": {},
   "outputs": [],
   "source": [
    "model.compile(loss='categorical_crossentropy',\n",
    "              optimizer='adam',\n",
    "              metrics=['accuracy'])"
   ]
  },
  {
   "cell_type": "code",
   "execution_count": 55,
   "metadata": {},
   "outputs": [
    {
     "name": "stdout",
     "output_type": "stream",
     "text": [
      "Epoch 1/10\n",
      "58/58 [==============================] - 9s 141ms/step - loss: 1.1871 - accuracy: 0.5172 - val_loss: 0.7400 - val_accuracy: 0.7083\n",
      "Epoch 2/10\n",
      "58/58 [==============================] - 8s 137ms/step - loss: 0.6303 - accuracy: 0.7888 - val_loss: 0.5598 - val_accuracy: 0.8264\n",
      "Epoch 3/10\n",
      "58/58 [==============================] - 8s 135ms/step - loss: 0.3320 - accuracy: 0.8793 - val_loss: 0.4258 - val_accuracy: 0.8681\n",
      "Epoch 4/10\n",
      "58/58 [==============================] - 8s 134ms/step - loss: 0.1942 - accuracy: 0.9267 - val_loss: 0.4807 - val_accuracy: 0.8889\n",
      "Epoch 5/10\n",
      "58/58 [==============================] - 9s 155ms/step - loss: 0.1304 - accuracy: 0.9504 - val_loss: 0.4703 - val_accuracy: 0.8750\n",
      "Epoch 6/10\n",
      "58/58 [==============================] - 8s 146ms/step - loss: 0.0919 - accuracy: 0.9526 - val_loss: 0.4762 - val_accuracy: 0.8889\n",
      "Epoch 7/10\n",
      "58/58 [==============================] - 8s 145ms/step - loss: 0.1174 - accuracy: 0.9720 - val_loss: 0.4650 - val_accuracy: 0.8472\n",
      "Epoch 8/10\n",
      "58/58 [==============================] - 8s 143ms/step - loss: 0.0480 - accuracy: 0.9849 - val_loss: 0.8022 - val_accuracy: 0.8750\n",
      "Epoch 9/10\n",
      "58/58 [==============================] - 8s 145ms/step - loss: 0.0928 - accuracy: 0.9698 - val_loss: 0.4717 - val_accuracy: 0.8889\n",
      "Epoch 10/10\n",
      "58/58 [==============================] - 8s 143ms/step - loss: 0.0568 - accuracy: 0.9784 - val_loss: 0.4425 - val_accuracy: 0.9167\n"
     ]
    },
    {
     "data": {
      "text/plain": [
       "<keras.callbacks.History at 0x256b420f100>"
      ]
     },
     "execution_count": 55,
     "metadata": {},
     "output_type": "execute_result"
    }
   ],
   "source": [
    "model.fit(\n",
    "    train_generator,\n",
    "    steps_per_epoch=nb_train_samples // batch_size,\n",
    "    epochs=epochs,\n",
    "    validation_data=val_generator,\n",
    "    validation_steps=nb_validation_samples // batch_size)"
   ]
  },
  {
   "cell_type": "code",
   "execution_count": 56,
   "metadata": {},
   "outputs": [],
   "source": [
    "# scores = model.evaluate_generator(test_generator, nb_test_samples // batch_size)\n",
    "# print(\"Точность на тестовых данных: %.2f%%\" % (scores[1]*100))"
   ]
  },
  {
   "cell_type": "code",
   "execution_count": 57,
   "metadata": {},
   "outputs": [],
   "source": [
    "model.save('cadmnist.h5')"
   ]
  },
  {
   "cell_type": "code",
   "execution_count": 58,
   "metadata": {},
   "outputs": [
    {
     "name": "stdout",
     "output_type": "stream",
     "text": [
      "1/1 [==============================] - 0s 90ms/step\n",
      "[9.99855280e-01 4.06049695e-17 1.18049975e-07 1.44557271e-04\n",
      " 2.49730014e-09]\n",
      "bearing 99%\n",
      "1/1 [==============================] - 0s 30ms/step\n",
      "[1.3737770e-06 9.9765009e-01 4.6800847e-05 3.9256788e-06 2.2977865e-03]\n",
      "bolt 99%\n",
      "1/1 [==============================] - 0s 27ms/step\n",
      "[9.7168484e-10 6.1579096e-11 9.9999964e-01 7.4730072e-10 3.0429376e-07]\n",
      "nut 99%\n",
      "1/1 [==============================] - 0s 26ms/step\n",
      "[6.7240368e-03 1.3847475e-11 3.2365024e-03 9.9002129e-01 1.8220593e-05]\n",
      "seal 99%\n",
      "1/1 [==============================] - 0s 26ms/step\n",
      "[2.0917631e-05 5.6327961e-05 4.0734536e-05 8.5439287e-06 9.9987352e-01]\n",
      "washer 99%\n"
     ]
    }
   ],
   "source": [
    "model = models.load_model('cadmnist.h5')\n",
    "classes=[\"bearing\", \"bolt\", \"nut\", \"seal\", \"washer\"]\n",
    "\n",
    "img=cv2.imread('cadmnist/test/bearing.jpg', cv2.IMREAD_GRAYSCALE).reshape((1,150,150,1))\n",
    "img=img/255.0\n",
    "pred = model.predict(img)[0]\n",
    "final_pred = np.argmax(pred)\n",
    "data = classes[final_pred] + ' ' + str(int(max(pred) * 100)) + '%'\n",
    "print(pred)\n",
    "print(data)\n",
    "\n",
    "img=cv2.imread('cadmnist/test/bolt.jpg', cv2.IMREAD_GRAYSCALE).reshape((1,150,150,1))\n",
    "img=img/255.0\n",
    "pred = model.predict(img)[0]\n",
    "final_pred = np.argmax(pred)\n",
    "data = classes[final_pred] + ' ' + str(int(max(pred) * 100)) + '%'\n",
    "print(pred)\n",
    "print(data)\n",
    "\n",
    "img=cv2.imread('cadmnist/test/nut.jpg', cv2.IMREAD_GRAYSCALE).reshape((1,150,150,1))\n",
    "img=img/255.0\n",
    "pred = model.predict(img)[0]\n",
    "final_pred = np.argmax(pred)\n",
    "data = classes[final_pred] + ' ' + str(int(max(pred) * 100)) + '%'\n",
    "print(pred)\n",
    "print(data)\n",
    "\n",
    "img=cv2.imread('cadmnist/test/seal.jpg', cv2.IMREAD_GRAYSCALE).reshape((1,150,150,1))\n",
    "img=img/255.0\n",
    "pred = model.predict(img)[0]\n",
    "final_pred = np.argmax(pred)\n",
    "data = classes[final_pred] + ' ' + str(int(max(pred) * 100)) + '%'\n",
    "print(pred)\n",
    "print(data)\n",
    "\n",
    "img=cv2.imread('cadmnist/test/washer.jpg', cv2.IMREAD_GRAYSCALE).reshape((1,150,150,1))\n",
    "img=img/255.0\n",
    "pred = model.predict(img)[0]\n",
    "final_pred = np.argmax(pred)\n",
    "data = classes[final_pred] + ' ' + str(int(max(pred) * 100)) + '%'\n",
    "print(pred)\n",
    "print(data)"
   ]
  }
 ],
 "metadata": {
  "kernelspec": {
   "display_name": "Python 3",
   "language": "python",
   "name": "python3"
  },
  "language_info": {
   "codemirror_mode": {
    "name": "ipython",
    "version": 3
   },
   "file_extension": ".py",
   "mimetype": "text/x-python",
   "name": "python",
   "nbconvert_exporter": "python",
   "pygments_lexer": "ipython3",
   "version": "3.10.7"
  },
  "orig_nbformat": 4,
  "vscode": {
   "interpreter": {
    "hash": "a1df27bbbad40ecdaee24acfc89f0b5773272cabcb6b66c54293a258d4db6eb4"
   }
  }
 },
 "nbformat": 4,
 "nbformat_minor": 2
}
