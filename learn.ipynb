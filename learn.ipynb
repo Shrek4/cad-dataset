{
 "cells": [
  {
   "cell_type": "code",
   "execution_count": 26,
   "metadata": {},
   "outputs": [],
   "source": [
    "\n",
    "from keras import layers\n",
    "from keras import models\n",
    "from keras.datasets import mnist\n",
    "from keras.utils import to_categorical\n",
    "from keras.preprocessing.image import ImageDataGenerator\n",
    "import cv2\n",
    "import numpy as np"
   ]
  },
  {
   "cell_type": "code",
   "execution_count": 27,
   "metadata": {},
   "outputs": [],
   "source": [
    "# Каталог с данными для обучения\n",
    "train_dir = 'cadmnist/train'\n",
    "# Каталог с данными для проверки\n",
    "val_dir = 'cadmnist/val'\n",
    "# Каталог с данными для тестирования\n",
    "test_dir = 'cadmnist/test'\n",
    "# Размеры изображения\n",
    "img_width, img_height = 150, 150\n",
    "# Размерность тензора на основе изображения для входных данных в нейронную сеть\n",
    "# backend Tensorflow, channels_last\n",
    "input_shape = (img_width, img_height, 1)\n",
    "# Количество эпох\n",
    "epochs = 10\n",
    "# Размер мини-выборки\n",
    "batch_size = 8\n",
    "# Количество изображений для обучения\n",
    "nb_train_samples = 277\n",
    "# Количество изображений для проверки\n",
    "nb_validation_samples = 86\n",
    "# Количество изображений для тестирования\n",
    "# nb_test_samples = 86\n",
    "# количество классов\n",
    "num_classes=5"
   ]
  },
  {
   "cell_type": "code",
   "execution_count": 28,
   "metadata": {},
   "outputs": [
    {
     "name": "stdout",
     "output_type": "stream",
     "text": [
      "Model: \"sequential_3\"\n",
      "_________________________________________________________________\n",
      " Layer (type)                Output Shape              Param #   \n",
      "=================================================================\n",
      " conv2d_9 (Conv2D)           (None, 148, 148, 32)      320       \n",
      "                                                                 \n",
      " activation_15 (Activation)  (None, 148, 148, 32)      0         \n",
      "                                                                 \n",
      " max_pooling2d_9 (MaxPooling  (None, 74, 74, 32)       0         \n",
      " 2D)                                                             \n",
      "                                                                 \n",
      " conv2d_10 (Conv2D)          (None, 72, 72, 32)        9248      \n",
      "                                                                 \n",
      " activation_16 (Activation)  (None, 72, 72, 32)        0         \n",
      "                                                                 \n",
      " max_pooling2d_10 (MaxPoolin  (None, 36, 36, 32)       0         \n",
      " g2D)                                                            \n",
      "                                                                 \n",
      " conv2d_11 (Conv2D)          (None, 34, 34, 64)        18496     \n",
      "                                                                 \n",
      " activation_17 (Activation)  (None, 34, 34, 64)        0         \n",
      "                                                                 \n",
      " max_pooling2d_11 (MaxPoolin  (None, 17, 17, 64)       0         \n",
      " g2D)                                                            \n",
      "                                                                 \n",
      " flatten_3 (Flatten)         (None, 18496)             0         \n",
      "                                                                 \n",
      " dense_6 (Dense)             (None, 64)                1183808   \n",
      "                                                                 \n",
      " activation_18 (Activation)  (None, 64)                0         \n",
      "                                                                 \n",
      " dense_7 (Dense)             (None, 5)                 325       \n",
      "                                                                 \n",
      " activation_19 (Activation)  (None, 5)                 0         \n",
      "                                                                 \n",
      "=================================================================\n",
      "Total params: 1,212,197\n",
      "Trainable params: 1,212,197\n",
      "Non-trainable params: 0\n",
      "_________________________________________________________________\n"
     ]
    }
   ],
   "source": [
    "model = models.Sequential()\n",
    "# model.add(layers.Conv2D(32, (3, 3), activation='relu', input_shape=input_shape))\n",
    "# model.add(layers.MaxPooling2D((2, 2)))\n",
    "# model.add(layers.Conv2D(64, (3, 3), activation='relu'))\n",
    "# model.add(layers.MaxPooling2D((2, 2)))\n",
    "# model.add(layers.Conv2D(64, (3, 3), activation='relu'))\n",
    "\n",
    "# model.add(layers.Flatten())\n",
    "# model.add(layers.Dense(64, activation='relu'))\n",
    "# model.add(layers.Dense(num_classes, activation='softmax'))\n",
    "\n",
    "model.add(layers.Conv2D(32, (3, 3), input_shape=input_shape))\n",
    "model.add(layers.Activation('relu'))\n",
    "model.add(layers.MaxPooling2D(pool_size=(2, 2)))\n",
    "\n",
    "model.add(layers.Conv2D(32, (3, 3)))\n",
    "model.add(layers.Activation('relu'))\n",
    "model.add(layers.MaxPooling2D(pool_size=(2, 2)))\n",
    "\n",
    "model.add(layers.Conv2D(64, (3, 3)))\n",
    "model.add(layers.Activation('relu'))\n",
    "model.add(layers.MaxPooling2D(pool_size=(2, 2)))\n",
    "\n",
    "model.add(layers.Flatten())\n",
    "model.add(layers.Dense(64))\n",
    "model.add(layers.Activation('relu'))\n",
    "model.add(layers.Dense(5))\n",
    "model.add(layers.Activation('softmax'))\n",
    "model.summary()"
   ]
  },
  {
   "cell_type": "code",
   "execution_count": 29,
   "metadata": {},
   "outputs": [
    {
     "name": "stdout",
     "output_type": "stream",
     "text": [
      "Found 277 images belonging to 5 classes.\n",
      "Found 86 images belonging to 5 classes.\n"
     ]
    }
   ],
   "source": [
    "datagen = ImageDataGenerator()\n",
    "\n",
    "train_generator = datagen.flow_from_directory(\n",
    "    train_dir,\n",
    "    target_size=(img_width, img_height),\n",
    "    color_mode='grayscale',\n",
    "    batch_size=batch_size,\n",
    "    class_mode='categorical')\n",
    "\n",
    "val_generator = datagen.flow_from_directory(\n",
    "    val_dir,\n",
    "    target_size=(img_width, img_height),\n",
    "    color_mode='grayscale',\n",
    "    batch_size=batch_size,\n",
    "    class_mode='categorical')\n",
    "\n",
    "# test_generator = datagen.flow_from_directory(\n",
    "#     test_dir,\n",
    "#     target_size=(img_width, img_height),\n",
    "#     color_mode='grayscale',\n",
    "#     batch_size=batch_size,\n",
    "#     class_mode='categorical')"
   ]
  },
  {
   "cell_type": "code",
   "execution_count": 30,
   "metadata": {},
   "outputs": [],
   "source": [
    "model.compile(loss='categorical_crossentropy',\n",
    "              optimizer='adam',\n",
    "              metrics=['accuracy'])"
   ]
  },
  {
   "cell_type": "code",
   "execution_count": 31,
   "metadata": {},
   "outputs": [
    {
     "name": "stdout",
     "output_type": "stream",
     "text": [
      "Epoch 1/10\n",
      "34/34 [==============================] - 5s 141ms/step - loss: 18.4519 - accuracy: 0.4796 - val_loss: 1.1000 - val_accuracy: 0.6250\n",
      "Epoch 2/10\n",
      "34/34 [==============================] - 5s 139ms/step - loss: 0.6610 - accuracy: 0.8141 - val_loss: 0.8454 - val_accuracy: 0.7375\n",
      "Epoch 3/10\n",
      "34/34 [==============================] - 5s 137ms/step - loss: 0.3394 - accuracy: 0.9071 - val_loss: 0.3268 - val_accuracy: 0.9125\n",
      "Epoch 4/10\n",
      "34/34 [==============================] - 5s 134ms/step - loss: 0.1753 - accuracy: 0.9554 - val_loss: 0.3513 - val_accuracy: 0.9250\n",
      "Epoch 5/10\n",
      "34/34 [==============================] - 5s 134ms/step - loss: 0.1177 - accuracy: 0.9777 - val_loss: 0.3498 - val_accuracy: 0.9250\n",
      "Epoch 6/10\n",
      "34/34 [==============================] - 5s 133ms/step - loss: 0.0305 - accuracy: 0.9963 - val_loss: 0.3405 - val_accuracy: 0.9500\n",
      "Epoch 7/10\n",
      "34/34 [==============================] - 5s 136ms/step - loss: 0.0104 - accuracy: 1.0000 - val_loss: 0.3668 - val_accuracy: 0.9375\n",
      "Epoch 8/10\n",
      "34/34 [==============================] - 5s 136ms/step - loss: 0.0069 - accuracy: 1.0000 - val_loss: 0.3924 - val_accuracy: 0.9625\n",
      "Epoch 9/10\n",
      "34/34 [==============================] - 5s 134ms/step - loss: 0.0042 - accuracy: 1.0000 - val_loss: 0.1298 - val_accuracy: 0.9625\n",
      "Epoch 10/10\n",
      "34/34 [==============================] - 5s 134ms/step - loss: 0.0028 - accuracy: 1.0000 - val_loss: 0.3931 - val_accuracy: 0.9500\n"
     ]
    },
    {
     "data": {
      "text/plain": [
       "<keras.callbacks.History at 0x21cb34483a0>"
      ]
     },
     "execution_count": 31,
     "metadata": {},
     "output_type": "execute_result"
    }
   ],
   "source": [
    "model.fit(\n",
    "    train_generator,\n",
    "    steps_per_epoch=nb_train_samples // batch_size,\n",
    "    epochs=epochs,\n",
    "    validation_data=val_generator,\n",
    "    validation_steps=nb_validation_samples // batch_size)"
   ]
  },
  {
   "cell_type": "code",
   "execution_count": 32,
   "metadata": {},
   "outputs": [],
   "source": [
    "# scores = model.evaluate_generator(test_generator, nb_test_samples // batch_size)\n",
    "# print(\"Точность на тестовых данных: %.2f%%\" % (scores[1]*100))"
   ]
  },
  {
   "cell_type": "code",
   "execution_count": 33,
   "metadata": {},
   "outputs": [],
   "source": [
    "model.save('cadmnist.h5')"
   ]
  },
  {
   "cell_type": "code",
   "execution_count": 35,
   "metadata": {},
   "outputs": [
    {
     "name": "stdout",
     "output_type": "stream",
     "text": [
      "1/1 [==============================] - 0s 101ms/step\n",
      "[0.19788478 0.20047295 0.19655852 0.20709549 0.19798826]\n",
      "seal 20%\n",
      "1/1 [==============================] - 0s 30ms/step\n",
      "[0.19763426 0.2069869  0.19719604 0.20270795 0.19547483]\n",
      "bolt 20%\n",
      "1/1 [==============================] - 0s 29ms/step\n",
      "[0.20172702 0.20061304 0.20163016 0.20116086 0.19486892]\n",
      "bearing 20%\n",
      "1/1 [==============================] - 0s 28ms/step\n",
      "[0.20688897 0.19448136 0.19582534 0.20636976 0.19643462]\n",
      "bearing 20%\n",
      "1/1 [==============================] - 0s 31ms/step\n",
      "[0.19652756 0.20167756 0.19442329 0.20373552 0.20363605]\n",
      "seal 20%\n"
     ]
    }
   ],
   "source": [
    "model = models.load_model('cadmnist.h5')\n",
    "classes=[\"bearing\", \"bolt\", \"nut\", \"seal\", \"washer\"]\n",
    "\n",
    "img=cv2.imread('cadmnist/val/seals/502164.jpg', cv2.IMREAD_GRAYSCALE).reshape((1,150,150,1))\n",
    "img=img/255.0\n",
    "pred = model.predict(img)[0]\n",
    "final_pred = np.argmax(pred)\n",
    "data = classes[final_pred] + ' ' + str(int(max(pred) * 100)) + '%'\n",
    "print(pred)\n",
    "print(data)\n",
    "\n",
    "img=cv2.imread('cadmnist/val/bolts/022162.jpg', cv2.IMREAD_GRAYSCALE).reshape((1,150,150,1))\n",
    "img=img/255.0\n",
    "pred = model.predict(img)[0]\n",
    "final_pred = np.argmax(pred)\n",
    "data = classes[final_pred] + ' ' + str(int(max(pred) * 100)) + '%'\n",
    "print(pred)\n",
    "print(data)\n",
    "\n",
    "img=cv2.imread('cadmnist/val/nuts/312161.jpg', cv2.IMREAD_GRAYSCALE).reshape((1,150,150,1))\n",
    "img=img/255.0\n",
    "pred = model.predict(img)[0]\n",
    "final_pred = np.argmax(pred)\n",
    "data = classes[final_pred] + ' ' + str(int(max(pred) * 100)) + '%'\n",
    "print(pred)\n",
    "print(data)\n",
    "\n",
    "img=cv2.imread('cadmnist/val/bearings/129164.jpg', cv2.IMREAD_GRAYSCALE).reshape((1,150,150,1))\n",
    "img=img/255.0\n",
    "pred = model.predict(img)[0]\n",
    "final_pred = np.argmax(pred)\n",
    "data = classes[final_pred] + ' ' + str(int(max(pred) * 100)) + '%'\n",
    "print(pred)\n",
    "print(data)\n",
    "\n",
    "img=cv2.imread('cadmnist/val/washers/391164.jpg', cv2.IMREAD_GRAYSCALE).reshape((1,150,150,1))\n",
    "img=img/255.0\n",
    "pred = model.predict(img)[0]\n",
    "final_pred = np.argmax(pred)\n",
    "data = classes[final_pred] + ' ' + str(int(max(pred) * 100)) + '%'\n",
    "print(pred)\n",
    "print(data)"
   ]
  }
 ],
 "metadata": {
  "kernelspec": {
   "display_name": "Python 3",
   "language": "python",
   "name": "python3"
  },
  "language_info": {
   "codemirror_mode": {
    "name": "ipython",
    "version": 3
   },
   "file_extension": ".py",
   "mimetype": "text/x-python",
   "name": "python",
   "nbconvert_exporter": "python",
   "pygments_lexer": "ipython3",
   "version": "3.10.7"
  },
  "orig_nbformat": 4,
  "vscode": {
   "interpreter": {
    "hash": "a1df27bbbad40ecdaee24acfc89f0b5773272cabcb6b66c54293a258d4db6eb4"
   }
  }
 },
 "nbformat": 4,
 "nbformat_minor": 2
}
