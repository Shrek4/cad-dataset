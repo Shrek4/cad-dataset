{
 "cells": [
  {
   "cell_type": "code",
   "execution_count": 43,
   "metadata": {},
   "outputs": [],
   "source": [
    "\n",
    "from keras import layers\n",
    "from keras import models\n",
    "from keras.datasets import mnist\n",
    "from keras.utils import to_categorical\n",
    "from keras.preprocessing.image import ImageDataGenerator"
   ]
  },
  {
   "cell_type": "code",
   "execution_count": 44,
   "metadata": {},
   "outputs": [],
   "source": [
    "# Каталог с данными для обучения\n",
    "train_dir = 'cadmnist/train'\n",
    "# Каталог с данными для проверки\n",
    "val_dir = 'cadmnist/val'\n",
    "# Каталог с данными для тестирования\n",
    "test_dir = 'cadmnist/test'\n",
    "# Размеры изображения\n",
    "img_width, img_height = 150, 150\n",
    "# Размерность тензора на основе изображения для входных данных в нейронную сеть\n",
    "# backend Tensorflow, channels_last\n",
    "input_shape = (img_width, img_height, 3)\n",
    "# Количество эпох\n",
    "epochs = 30\n",
    "# Размер мини-выборки\n",
    "batch_size = 8\n",
    "# Количество изображений для обучения\n",
    "nb_train_samples = 188\n",
    "# Количество изображений для проверки\n",
    "nb_validation_samples = 89\n",
    "# Количество изображений для тестирования\n",
    "nb_test_samples = 86\n",
    "# количество классов\n",
    "num_classes=5"
   ]
  },
  {
   "cell_type": "code",
   "execution_count": 45,
   "metadata": {},
   "outputs": [
    {
     "name": "stdout",
     "output_type": "stream",
     "text": [
      "Model: \"sequential_8\"\n",
      "_________________________________________________________________\n",
      " Layer (type)                Output Shape              Param #   \n",
      "=================================================================\n",
      " conv2d_24 (Conv2D)          (None, 148, 148, 32)      896       \n",
      "                                                                 \n",
      " max_pooling2d_18 (MaxPoolin  (None, 74, 74, 32)       0         \n",
      " g2D)                                                            \n",
      "                                                                 \n",
      " conv2d_25 (Conv2D)          (None, 72, 72, 64)        18496     \n",
      "                                                                 \n",
      " max_pooling2d_19 (MaxPoolin  (None, 36, 36, 64)       0         \n",
      " g2D)                                                            \n",
      "                                                                 \n",
      " conv2d_26 (Conv2D)          (None, 34, 34, 64)        36928     \n",
      "                                                                 \n",
      " flatten_8 (Flatten)         (None, 73984)             0         \n",
      "                                                                 \n",
      " dense_16 (Dense)            (None, 64)                4735040   \n",
      "                                                                 \n",
      " dense_17 (Dense)            (None, 5)                 325       \n",
      "                                                                 \n",
      "=================================================================\n",
      "Total params: 4,791,685\n",
      "Trainable params: 4,791,685\n",
      "Non-trainable params: 0\n",
      "_________________________________________________________________\n"
     ]
    }
   ],
   "source": [
    "model = models.Sequential()\n",
    "model.add(layers.Conv2D(32, (3, 3), activation='relu', input_shape=input_shape))\n",
    "model.add(layers.MaxPooling2D((2, 2)))\n",
    "model.add(layers.Conv2D(64, (3, 3), activation='relu'))\n",
    "model.add(layers.MaxPooling2D((2, 2)))\n",
    "model.add(layers.Conv2D(64, (3, 3), activation='relu'))\n",
    "\n",
    "model.add(layers.Flatten())\n",
    "model.add(layers.Dense(64, activation='relu'))\n",
    "model.add(layers.Dense(num_classes, activation='softmax'))\n",
    "\n",
    "# model.add(layers.Conv2D(32, (3, 3), input_shape=input_shape))\n",
    "# model.add(layers.Activation('relu'))\n",
    "# model.add(layers.MaxPooling2D(pool_size=(2, 2)))\n",
    "\n",
    "# model.add(layers.Conv2D(32, (3, 3)))\n",
    "# model.add(layers.Activation('relu'))\n",
    "# model.add(layers.MaxPooling2D(pool_size=(2, 2)))\n",
    "\n",
    "# model.add(layers.Conv2D(64, (3, 3)))\n",
    "# model.add(layers.Activation('relu'))\n",
    "# model.add(layers.MaxPooling2D(pool_size=(2, 2)))\n",
    "\n",
    "# model.add(layers.Flatten())\n",
    "# model.add(layers.Dense(64))\n",
    "# model.add(layers.Activation('relu'))\n",
    "# model.add(layers.Dropout(0.5))\n",
    "# model.add(layers.Dense(1))\n",
    "# model.add(layers.Activation('sigmoid'))\n",
    "model.summary()"
   ]
  },
  {
   "cell_type": "code",
   "execution_count": 46,
   "metadata": {},
   "outputs": [
    {
     "name": "stdout",
     "output_type": "stream",
     "text": [
      "Found 188 images belonging to 5 classes.\n",
      "Found 89 images belonging to 5 classes.\n",
      "Found 86 images belonging to 5 classes.\n"
     ]
    }
   ],
   "source": [
    "datagen = ImageDataGenerator()\n",
    "\n",
    "train_generator = datagen.flow_from_directory(\n",
    "    train_dir,\n",
    "    target_size=(img_width, img_height),\n",
    "    batch_size=batch_size,\n",
    "    class_mode='categorical')\n",
    "\n",
    "val_generator = datagen.flow_from_directory(\n",
    "    val_dir,\n",
    "    target_size=(img_width, img_height),\n",
    "    batch_size=batch_size,\n",
    "    class_mode='categorical')\n",
    "\n",
    "test_generator = datagen.flow_from_directory(\n",
    "    test_dir,\n",
    "    target_size=(img_width, img_height),\n",
    "    batch_size=batch_size,\n",
    "    class_mode='categorical')"
   ]
  },
  {
   "cell_type": "code",
   "execution_count": 47,
   "metadata": {},
   "outputs": [],
   "source": [
    "model.compile(loss='categorical_crossentropy',\n",
    "              optimizer='adam',\n",
    "              metrics=['accuracy'])"
   ]
  },
  {
   "cell_type": "code",
   "execution_count": 48,
   "metadata": {},
   "outputs": [
    {
     "name": "stdout",
     "output_type": "stream",
     "text": [
      "Epoch 1/30\n",
      "23/23 [==============================] - 6s 243ms/step - loss: 39.5599 - accuracy: 0.4667 - val_loss: 1.2204 - val_accuracy: 0.6023\n",
      "Epoch 2/30\n",
      "23/23 [==============================] - 5s 203ms/step - loss: 0.7538 - accuracy: 0.7778 - val_loss: 1.0208 - val_accuracy: 0.7500\n",
      "Epoch 3/30\n",
      "23/23 [==============================] - 5s 225ms/step - loss: 0.2103 - accuracy: 0.9222 - val_loss: 1.4421 - val_accuracy: 0.7500\n",
      "Epoch 4/30\n",
      "23/23 [==============================] - 5s 213ms/step - loss: 0.1021 - accuracy: 0.9667 - val_loss: 1.7018 - val_accuracy: 0.7045\n",
      "Epoch 5/30\n",
      "23/23 [==============================] - 5s 211ms/step - loss: 0.0772 - accuracy: 0.9667 - val_loss: 2.2264 - val_accuracy: 0.7386\n",
      "Epoch 6/30\n",
      "23/23 [==============================] - 5s 220ms/step - loss: 0.0525 - accuracy: 0.9783 - val_loss: 2.4353 - val_accuracy: 0.7955\n",
      "Epoch 7/30\n",
      "23/23 [==============================] - 5s 223ms/step - loss: 0.1492 - accuracy: 0.9722 - val_loss: 2.4649 - val_accuracy: 0.7727\n",
      "Epoch 8/30\n",
      "23/23 [==============================] - 5s 206ms/step - loss: 0.1109 - accuracy: 0.9833 - val_loss: 2.1150 - val_accuracy: 0.7386\n",
      "Epoch 9/30\n",
      "23/23 [==============================] - 5s 205ms/step - loss: 0.0342 - accuracy: 0.9833 - val_loss: 1.9764 - val_accuracy: 0.8068\n",
      "Epoch 10/30\n",
      "23/23 [==============================] - 5s 203ms/step - loss: 0.0650 - accuracy: 0.9889 - val_loss: 1.6028 - val_accuracy: 0.7841\n",
      "Epoch 11/30\n",
      "23/23 [==============================] - 5s 202ms/step - loss: 0.0164 - accuracy: 1.0000 - val_loss: 2.2069 - val_accuracy: 0.7500\n",
      "Epoch 12/30\n",
      "23/23 [==============================] - 5s 205ms/step - loss: 0.0021 - accuracy: 1.0000 - val_loss: 2.4430 - val_accuracy: 0.7727\n",
      "Epoch 13/30\n",
      "23/23 [==============================] - 5s 202ms/step - loss: 7.6201e-04 - accuracy: 1.0000 - val_loss: 2.5609 - val_accuracy: 0.7841\n",
      "Epoch 14/30\n",
      "23/23 [==============================] - 5s 206ms/step - loss: 1.2140e-04 - accuracy: 1.0000 - val_loss: 2.6230 - val_accuracy: 0.7614\n",
      "Epoch 15/30\n",
      "23/23 [==============================] - 5s 204ms/step - loss: 9.9863e-05 - accuracy: 1.0000 - val_loss: 2.6680 - val_accuracy: 0.7614\n",
      "Epoch 16/30\n",
      "23/23 [==============================] - 5s 202ms/step - loss: 4.9818e-05 - accuracy: 1.0000 - val_loss: 2.7245 - val_accuracy: 0.7727\n",
      "Epoch 17/30\n",
      "23/23 [==============================] - 5s 203ms/step - loss: 4.0463e-05 - accuracy: 1.0000 - val_loss: 2.7573 - val_accuracy: 0.7614\n",
      "Epoch 18/30\n",
      "23/23 [==============================] - 5s 203ms/step - loss: 2.3087e-05 - accuracy: 1.0000 - val_loss: 2.7746 - val_accuracy: 0.7614\n",
      "Epoch 19/30\n",
      "23/23 [==============================] - 5s 203ms/step - loss: 3.0289e-05 - accuracy: 1.0000 - val_loss: 2.7971 - val_accuracy: 0.7614\n",
      "Epoch 20/30\n",
      "23/23 [==============================] - 5s 205ms/step - loss: 2.8053e-05 - accuracy: 1.0000 - val_loss: 2.8147 - val_accuracy: 0.7614\n",
      "Epoch 21/30\n",
      "23/23 [==============================] - 5s 201ms/step - loss: 2.5504e-05 - accuracy: 1.0000 - val_loss: 2.8305 - val_accuracy: 0.7614\n",
      "Epoch 22/30\n",
      "23/23 [==============================] - 5s 224ms/step - loss: 2.2888e-05 - accuracy: 1.0000 - val_loss: 2.8374 - val_accuracy: 0.7614\n",
      "Epoch 23/30\n",
      "23/23 [==============================] - 6s 247ms/step - loss: 2.0366e-05 - accuracy: 1.0000 - val_loss: 2.8516 - val_accuracy: 0.7614\n",
      "Epoch 24/30\n",
      "23/23 [==============================] - 5s 215ms/step - loss: 1.8197e-05 - accuracy: 1.0000 - val_loss: 2.8685 - val_accuracy: 0.7614\n",
      "Epoch 25/30\n",
      "23/23 [==============================] - 5s 210ms/step - loss: 1.6161e-05 - accuracy: 1.0000 - val_loss: 2.7956 - val_accuracy: 0.7727\n",
      "Epoch 26/30\n",
      "23/23 [==============================] - 5s 215ms/step - loss: 1.2276e-05 - accuracy: 1.0000 - val_loss: 2.8994 - val_accuracy: 0.7614\n",
      "Epoch 27/30\n",
      "23/23 [==============================] - 5s 218ms/step - loss: 1.2992e-05 - accuracy: 1.0000 - val_loss: 2.9154 - val_accuracy: 0.7727\n",
      "Epoch 28/30\n",
      "23/23 [==============================] - 5s 223ms/step - loss: 1.1887e-05 - accuracy: 1.0000 - val_loss: 2.9314 - val_accuracy: 0.7614\n",
      "Epoch 29/30\n",
      "23/23 [==============================] - 5s 233ms/step - loss: 1.0853e-05 - accuracy: 1.0000 - val_loss: 2.9486 - val_accuracy: 0.7614\n",
      "Epoch 30/30\n",
      "23/23 [==============================] - 5s 227ms/step - loss: 9.9965e-06 - accuracy: 1.0000 - val_loss: 2.9609 - val_accuracy: 0.7614\n"
     ]
    },
    {
     "data": {
      "text/plain": [
       "<keras.callbacks.History at 0x1b2aa4efdc0>"
      ]
     },
     "execution_count": 48,
     "metadata": {},
     "output_type": "execute_result"
    }
   ],
   "source": [
    "model.fit(\n",
    "    train_generator,\n",
    "    steps_per_epoch=nb_train_samples // batch_size,\n",
    "    epochs=epochs,\n",
    "    validation_data=val_generator,\n",
    "    validation_steps=nb_validation_samples // batch_size)"
   ]
  },
  {
   "cell_type": "code",
   "execution_count": 49,
   "metadata": {},
   "outputs": [
    {
     "name": "stderr",
     "output_type": "stream",
     "text": [
      "C:\\Users\\Shrek\\AppData\\Local\\Temp\\ipykernel_14148\\1626445616.py:1: UserWarning: `Model.evaluate_generator` is deprecated and will be removed in a future version. Please use `Model.evaluate`, which supports generators.\n",
      "  scores = model.evaluate_generator(test_generator, nb_test_samples // batch_size)\n"
     ]
    },
    {
     "name": "stdout",
     "output_type": "stream",
     "text": [
      "Точность на тестовых данных: 86.25%\n"
     ]
    }
   ],
   "source": [
    "scores = model.evaluate_generator(test_generator, nb_test_samples // batch_size)\n",
    "print(\"Точность на тестовых данных: %.2f%%\" % (scores[1]*100))"
   ]
  },
  {
   "cell_type": "code",
   "execution_count": 50,
   "metadata": {},
   "outputs": [],
   "source": [
    "model.save('cadmnist.h5')"
   ]
  }
 ],
 "metadata": {
  "kernelspec": {
   "display_name": "Python 3",
   "language": "python",
   "name": "python3"
  },
  "language_info": {
   "codemirror_mode": {
    "name": "ipython",
    "version": 3
   },
   "file_extension": ".py",
   "mimetype": "text/x-python",
   "name": "python",
   "nbconvert_exporter": "python",
   "pygments_lexer": "ipython3",
   "version": "3.10.7"
  },
  "orig_nbformat": 4,
  "vscode": {
   "interpreter": {
    "hash": "a1df27bbbad40ecdaee24acfc89f0b5773272cabcb6b66c54293a258d4db6eb4"
   }
  }
 },
 "nbformat": 4,
 "nbformat_minor": 2
}
