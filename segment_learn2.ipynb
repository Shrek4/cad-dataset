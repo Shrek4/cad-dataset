{
  "cells": [
    {
      "cell_type": "code",
      "execution_count": 1,
      "metadata": {
        "id": "szFlgsioh5Dp"
      },
      "outputs": [],
      "source": [
        "import numpy as np \n",
        "import os\n",
        "import skimage.io as io\n",
        "import skimage.transform as trans\n",
        "import numpy as np\n",
        "from keras.models import *\n",
        "from keras.layers import *\n",
        "from keras.optimizers import *\n",
        "from keras import backend as K\n",
        "import tensorflow as tf\n",
        "from keras.preprocessing.image import ImageDataGenerator\n",
        "import cv2\n",
        "import matplotlib.pyplot as plt\n"
      ]
    },
    {
      "cell_type": "code",
      "execution_count": 2,
      "metadata": {},
      "outputs": [
        {
          "data": {
            "text/plain": [
              "[]"
            ]
          },
          "execution_count": 2,
          "metadata": {},
          "output_type": "execute_result"
        }
      ],
      "source": [
        "tf.config.list_physical_devices('GPU')"
      ]
    },
    {
      "cell_type": "code",
      "execution_count": 2,
      "metadata": {
        "id": "NoXuNMi3h5Dv"
      },
      "outputs": [],
      "source": [
        "img_width, img_height, img_channels= 1024, 1024, 1\n",
        "num_class=6\n",
        "batch_size=1\n",
        "epochs=20\n",
        "train_dir='./cadmnist_segment/train/'\n",
        "train_samples=20"
      ]
    },
    {
      "cell_type": "code",
      "execution_count": null,
      "metadata": {
        "id": "eBkyokggXBTH"
      },
      "outputs": [],
      "source": [
        "def batch_slice(inputs, graph_fn, batch_size, names=None):\n",
        "    \"\"\"Splits inputs into slices and feeds each slice to a copy of the given\n",
        "    computation graph and then combines the results. It allows you to run a\n",
        "    graph on a batch of inputs even if the graph is written to support one\n",
        "    instance only.\n",
        "    inputs: list of tensors. All must have the same first dimension length\n",
        "    graph_fn: A function that returns a TF tensor that's part of a graph.\n",
        "    batch_size: number of slices to divide the data into.\n",
        "    names: If provided, assigns names to the resulting tensors.\n",
        "    \"\"\"\n",
        "    if not isinstance(inputs, list):\n",
        "        inputs = [inputs]\n",
        "    outputs = []\n",
        "    for i in range(batch_size):\n",
        "\n",
        "        inputs_slice = [x[i] for x in inputs]\n",
        "        output_slice = graph_fn(*inputs_slice)\n",
        "        if not isinstance(output_slice, (tuple, list)):\n",
        "            output_slice = [output_slice]\n",
        "        outputs.append(output_slice)\n",
        "    # Change outputs from a list of slices where each is\n",
        "    # a list of outputs to a list of outputs and each has\n",
        "    # a list of slices\n",
        "    outputs = list(zip(*outputs))\n",
        "\n",
        "    if names is None:\n",
        "        names = [None] * len(outputs)\n",
        "\n",
        "    result = [tf.stack(o, axis=0, name=n)\n",
        "              for o, n in zip(outputs, names)]\n",
        "    if len(result) == 1:\n",
        "        result = result[0]\n",
        "\n",
        "    return result\n",
        "def apply_box_deltas_graph(boxes, deltas):\n",
        "    \"\"\"Applies the given deltas to the given boxes.\n",
        "    boxes: [N, (y1, x1, y2, x2)] boxes to update\n",
        "    deltas: [N, (dy, dx, log(dh), log(dw))] refinements to apply\n",
        "    \"\"\"\n",
        "    # Convert to y, x, h, w\n",
        "    height = boxes[:, 2] - boxes[:, 0]\n",
        "    width = boxes[:, 3] - boxes[:, 1]\n",
        "    center_y = boxes[:, 0] + 0.5 * height\n",
        "    center_x = boxes[:, 1] + 0.5 * width\n",
        "    # Apply deltas\n",
        "    center_y += deltas[:, 0] * height\n",
        "    center_x += deltas[:, 1] * width\n",
        "    height *= tf.exp(deltas[:, 2])\n",
        "    width *= tf.exp(deltas[:, 3])\n",
        "    # Convert back to y1, x1, y2, x2\n",
        "    y1 = center_y - 0.5 * height\n",
        "    x1 = center_x - 0.5 * width\n",
        "    y2 = y1 + height\n",
        "    x2 = x1 + width\n",
        "    result = tf.stack([y1, x1, y2, x2], axis=1, name=\"apply_box_deltas_out\")\n",
        "    return result\n",
        "def clip_boxes_graph(boxes, window):\n",
        "    \"\"\"\n",
        "    boxes: [N, (y1, x1, y2, x2)]\n",
        "    window: [4] in the form y1, x1, y2, x2\n",
        "    \"\"\"\n",
        "    # Split\n",
        "    wy1, wx1, wy2, wx2 = tf.split(window, 4)\n",
        "    y1, x1, y2, x2 = tf.split(boxes, 4, axis=1)\n",
        "    # Clip\n",
        "    y1 = tf.maximum(tf.minimum(y1, wy2), wy1)\n",
        "    x1 = tf.maximum(tf.minimum(x1, wx2), wx1)\n",
        "    y2 = tf.maximum(tf.minimum(y2, wy2), wy1)\n",
        "    x2 = tf.maximum(tf.minimum(x2, wx2), wx1)\n",
        "    clipped = tf.concat([y1, x1, y2, x2], axis=1, name=\"clipped_boxes\")\n",
        "    clipped.set_shape((clipped.shape[0], 4))\n",
        "    return clipped\n",
        "\n",
        "class ProposalLayer(Layer):\n",
        "    \"\"\"Receives anchor scores and selects a subset to pass as proposals\n",
        "    to the second stage. Filtering is done based on anchor scores and\n",
        "    non-max suppression to remove overlaps. It also applies bounding\n",
        "    box refinement deltas to anchors.\n",
        "    Args:\n",
        "        rpn_probs: [batch, num_anchors, (bg prob, fg prob)]\n",
        "        rpn_bbox: [batch, num_anchors, (dy, dx, log(dh), log(dw))]\n",
        "        anchors: [batch, num_anchors, (y1, x1, y2, x2)] anchors in normalized coordinates\n",
        "    Returns:\n",
        "        Proposals in normalized coordinates [batch, rois, (y1, x1, y2, x2)]\n",
        "    \"\"\"\n",
        "\n",
        "    def __init__(self, proposal_count, config, name='roi', **kwargs):\n",
        "        super(ProposalLayer, self).__init__(name=name, **kwargs)\n",
        "        self.config = config\n",
        "        self.proposal_count = proposal_count\n",
        "        self.nms_threshold = self.config['rpn_nms_threshold']\n",
        "\n",
        "    def nms(self, boxes, scores):\n",
        "        indices = tf.image.non_max_suppression(boxes, scores, self.proposal_count, self.nms_threshold,\n",
        "                                               name=\"rpn_non_max_suppression\")\n",
        "        proposals = tf.gather(boxes, indices)\n",
        "        # Pad if needed\n",
        "        padding = tf.maximum(self.proposal_count - tf.shape(proposals)[0], 0)\n",
        "        proposals = tf.pad(proposals, [(0, padding), (0, 0)])\n",
        "        return proposals\n",
        "\n",
        "    def call(self, inputs, **kwargs):\n",
        "        # Box Scores. Use the foreground class confidence. [Batch, num_rois, 1]\n",
        "        scores = inputs[0][:, :, 1]\n",
        "        # Box deltas [batch, num_rois, 4]\n",
        "        deltas = inputs[1]\n",
        "        deltas = deltas * np.reshape(self.config['rpn_bbox_std_dev'], [1, 1, 4])\n",
        "        # Anchors\n",
        "        anchors = inputs[2]\n",
        "\n",
        "        # Improve performance by trimming to top anchors by score\n",
        "        # and doing the rest on the smaller subset.\n",
        "\n",
        "        pre_nms_limit = tf.minimum(self.config['pre_nms_limit'], tf.shape(anchors)[1])\n",
        "        ix = tf.nn.top_k(scores, pre_nms_limit, sorted=True, name=\"top_anchors\").indices\n",
        "        scores = batch_slice([scores, ix], lambda x, y: tf.gather(x, y), self.config['images_per_gpu'])\n",
        "        deltas = batch_slice([deltas, ix], lambda x, y: tf.gather(x, y), self.config['images_per_gpu'])\n",
        "        pre_nms_anchors = batch_slice([anchors, ix], lambda a, x: tf.gather(a, x), self.config['images_per_gpu'],\n",
        "                                            names=[\"pre_nms_anchors\"])\n",
        "\n",
        "        # Apply deltas to anchors to get refined anchors.\n",
        "        # [batch, N, (y1, x1, y2, x2)]\n",
        "        boxes = batch_slice([pre_nms_anchors, deltas], lambda x, y: apply_box_deltas_graph(x, y),\n",
        "                                  self.config['images_per_gpu'], names=[\"refined_anchors\"])\n",
        "\n",
        "        # Clip to image boundaries. Since we're in normalized coordinates,\n",
        "        # clip to 0..1 range. [batch, N, (y1, x1, y2, x2)]\n",
        "        window = np.array([0, 0, 1, 1], dtype=np.float32)\n",
        "        boxes = batch_slice(boxes, lambda x: clip_boxes_graph(x, window), self.config['images_per_gpu'],\n",
        "                                  names=[\"refined_anchors_clipped\"])\n",
        "\n",
        "        # Filter out small boxes\n",
        "        # According to Xinlei Chen's paper, this reduces detection accuracy\n",
        "        # for small objects, so we're skipping it.\n",
        "\n",
        "        # Non-max suppression\n",
        "        proposals = batch_slice([boxes, scores], self.nms, self.config['images_per_gpu'])\n",
        "        return proposals\n",
        "\n",
        "    def build(self, input_shape):\n",
        "        self.built = True\n",
        "        super(ProposalLayer, self).build(input_shape)\n",
        "\n",
        "    def compute_output_shape(self, input_shape):\n",
        "        return None, self.proposal_count, 4\n",
        "\n",
        "    def get_config(self):\n",
        "        config = super(ProposalLayer, self).get_config()\n",
        "        return config"
      ]
    },
    {
      "cell_type": "code",
      "execution_count": 4,
      "metadata": {
        "id": "wYLcFztyh5Dw"
      },
      "outputs": [],
      "source": [
        "def jaccard_distance(y_true, y_pred, smooth=100):\n",
        "    intersection = K.sum(K.abs(y_true * y_pred), axis=-1)\n",
        "    sum_ = K.sum(K.square(y_true), axis = -1) + K.sum(K.square(y_pred), axis=-1)\n",
        "    jac = (intersection + smooth) / (sum_ - intersection + smooth)\n",
        "    return (1 - jac)\n",
        "def dice_coef(y_true, y_pred, smooth = 100):\n",
        "    y_true_f = K.flatten(y_true)\n",
        "    y_pred_f = K.flatten(y_pred)\n",
        "    intersection = K.sum(y_true_f * y_pred_f)\n",
        "    return (2. * intersection + smooth) / (K.sum(y_true_f) + K.sum(y_pred_f) + smooth)\n",
        "def dice_coef_loss(y_true, y_pred):\n",
        "    return -dice_coef(y_true, y_pred)\n",
        "def precision(y_true, y_pred):\n",
        "    '''Calculates the precision, a metric for multi-label classification of\n",
        "    how many selected items are relevant.\n",
        "    '''\n",
        "    true_positives = K.sum(K.round(K.clip(y_true * y_pred, 0, 1)))\n",
        "    predicted_positives = K.sum(K.round(K.clip(y_pred, 0, 1)))\n",
        "    precision = true_positives / (predicted_positives + K.epsilon())\n",
        "    return precision\n",
        "def recall(y_true, y_pred):\n",
        "    '''Calculates the recall, a metric for multi-label classification of\n",
        "    how many relevant items are selected.\n",
        "    '''\n",
        "    true_positives = K.sum(K.round(K.clip(y_true * y_pred, 0, 1)))\n",
        "    possible_positives = K.sum(K.round(K.clip(y_true, 0, 1)))\n",
        "    recall = true_positives / (possible_positives + K.epsilon())\n",
        "    return recall\n",
        "def accuracy(y_true, y_pred):\n",
        "    '''Calculates the mean accuracy rate across all predictions for binary\n",
        "    classification problems.\n",
        "    '''\n",
        "    return K.mean(K.equal(y_true, K.round(y_pred)))\n",
        "def iou(y_true, y_pred, smooth = 100):\n",
        "    intersection = K.sum(K.abs(y_true * y_pred), axis=-1)\n",
        "    sum_ = K.sum(K.square(y_true), axis = -1) + K.sum(K.square(y_pred), axis=-1)\n",
        "    jac = (intersection + smooth) / (sum_ - intersection + smooth)\n",
        "    return jac"
      ]
    },
    {
      "cell_type": "code",
      "execution_count": 5,
      "metadata": {
        "id": "fJom6BMWh5Dx"
      },
      "outputs": [],
      "source": [
        "def unet(input_size, n_class):\n",
        "    neuron_mul=2\n",
        "    inputs = Input(shape=input_size)\n",
        "    conv1 = Conv2D(32*neuron_mul, 3, activation = 'relu', padding = 'same', kernel_initializer = 'he_normal')(inputs)\n",
        "    conv1 = BatchNormalization()(conv1)\n",
        "    conv1 = Conv2D(32*neuron_mul, 3, activation = 'relu', padding = 'same', kernel_initializer = 'he_normal')(conv1)\n",
        "    conv1 = BatchNormalization()(conv1)\n",
        "    pool1 = MaxPooling2D(pool_size=(2, 2))(conv1)\n",
        "    conv2 = Conv2D(64*neuron_mul, 3, activation = 'relu', padding = 'same', kernel_initializer = 'he_normal')(pool1)\n",
        "    conv2 = BatchNormalization()(conv2)\n",
        "    conv2 = Conv2D(64*neuron_mul, 3, activation = 'relu', padding = 'same', kernel_initializer = 'he_normal')(conv2)\n",
        "    conv2 = BatchNormalization()(conv2)\n",
        "    pool2 = MaxPooling2D(pool_size=(2, 2))(conv2)\n",
        "    conv3 = Conv2D(128*neuron_mul, 3, activation = 'relu', padding = 'same', kernel_initializer = 'he_normal')(pool2)\n",
        "    conv3 = BatchNormalization()(conv3)\n",
        "    conv3 = Conv2D(128*neuron_mul, 3, activation = 'relu', padding = 'same', kernel_initializer = 'he_normal')(conv3)\n",
        "    conv3 = BatchNormalization()(conv3)\n",
        "    pool3 = MaxPooling2D(pool_size=(2, 2))(conv3)\n",
        "    \n",
        "    conv4 = Conv2D(256*neuron_mul, 3, activation = 'relu', padding = 'same', kernel_initializer = 'he_normal')(pool3)\n",
        "    conv4 = BatchNormalization()(conv4)\n",
        "    conv4 = Conv2D(256*neuron_mul, 3, activation = 'relu', padding = 'same', kernel_initializer = 'he_normal')(conv4)\n",
        "    conv4 = BatchNormalization()(conv4)\n",
        "    drop4 = Dropout(0.5)(conv4)\n",
        "    \n",
        "\n",
        "    conv5 = Conv2D(256*neuron_mul, 3, activation = 'relu', padding = 'same', kernel_initializer = 'he_normal')(drop4)\n",
        "    conv5 = BatchNormalization()(conv5)\n",
        "    conv5 = Conv2D(256*neuron_mul, 3, activation = 'relu', padding = 'same', kernel_initializer = 'he_normal')(conv5)\n",
        "    conv5 = BatchNormalization()(conv5)\n",
        "    drop5 = Dropout(0.5)(conv5)\n",
        "    \n",
        "\n",
        "    up6 = Conv2D(128*neuron_mul, 2, activation = 'relu', padding = 'same', kernel_initializer = 'he_normal')(UpSampling2D(size = (2,2))(drop5))\n",
        "    merge6 = concatenate([conv3,up6], axis = 3)\n",
        "    conv6 = Conv2D(128*neuron_mul, 3, activation = 'relu', padding = 'same', kernel_initializer = 'he_normal')(merge6)\n",
        "    conv6 = Conv2D(128*neuron_mul, 3, activation = 'relu', padding = 'same', kernel_initializer = 'he_normal')(conv6)\n",
        "    \n",
        "\n",
        "    up7 = Conv2D(64*neuron_mul, 2, activation = 'relu', padding = 'same', kernel_initializer = 'he_normal')(UpSampling2D(size = (2,2))(conv6))\n",
        "    merge7 = concatenate([conv2,up7], axis = 3)\n",
        "    conv7 = Conv2D(64*neuron_mul, 3, activation = 'relu', padding = 'same', kernel_initializer = 'he_normal')(merge7)\n",
        "    conv7 = Conv2D(64*neuron_mul, 3, activation = 'relu', padding = 'same', kernel_initializer = 'he_normal')(conv7)\n",
        "    \n",
        "\n",
        "    up8 = Conv2D(32*neuron_mul, 2, activation = 'relu', padding = 'same', kernel_initializer = 'he_normal')(UpSampling2D(size = (2,2))(conv7))\n",
        "    merge8 = concatenate([conv1,up8], axis = 3)\n",
        "    conv8 = Conv2D(32*neuron_mul, 3, activation = 'relu', padding = 'same', kernel_initializer = 'he_normal')(merge8)\n",
        "    conv8 = Conv2D(32*neuron_mul, 3, activation = 'relu', padding = 'same', kernel_initializer = 'he_normal')(conv8)\n",
        "    conv9 = Conv2D(n_class, (1,1), activation = 'softmax')(conv8)\n",
        "\n",
        "    model = Model(inputs = inputs, outputs = conv9)\n",
        "\n",
        "    return model\n",
        "\n",
        "def unet4(img_shape, num_class):\n",
        "    neuron_mul=2\n",
        "    inputs = Input(img_shape)\n",
        "    conv1 = Conv2D(32*neuron_mul, (3, 3), activation='relu', padding='same')(inputs)\n",
        "    conv1 = Conv2D(32*neuron_mul, (3, 3), activation='relu', padding='same')(conv1)\n",
        "    pool1 = MaxPooling2D(pool_size=(2, 2))(conv1)\n",
        "    conv2 = Conv2D(64*neuron_mul, (3, 3), activation='relu', padding='same')(pool1)\n",
        "    conv2 = Conv2D(64*neuron_mul, (3, 3), activation='relu', padding='same')(conv2)\n",
        "    pool2 = MaxPooling2D(pool_size=(2, 2))(conv2)\n",
        "    conv3 = Conv2D(128*neuron_mul, (3, 3), activation='relu', padding='same')(pool2)\n",
        "    conv3 = Conv2D(128*neuron_mul, (3, 3), activation='relu', padding='same')(conv3)\n",
        "    pool3 = MaxPooling2D(pool_size=(2, 2))(conv3)\n",
        "    conv4 = Conv2D(256*neuron_mul, (3, 3), activation='relu', padding='same')(pool3)\n",
        "    conv4 = Conv2D(256*neuron_mul, (3, 3), activation='relu', padding='same')(conv4)\n",
        "    pool4 = MaxPooling2D(pool_size=(2, 2))(conv4)\n",
        "    conv5 = Conv2D(512*neuron_mul, (3, 3), activation='relu', padding='same')(pool4)\n",
        "    conv5 = Conv2D(512*neuron_mul, (3, 3), activation='relu', padding='same')(conv5)\n",
        "    up6 = concatenate([UpSampling2D(size=(2, 2))(conv5), conv4], axis=3)\n",
        "    conv6 = Conv2D(256*neuron_mul, (3, 3), activation='relu', padding='same')(up6)\n",
        "    conv6 = Conv2D(256*neuron_mul, (3, 3), activation='relu', padding='same')(conv6)\n",
        "    up7 = concatenate([UpSampling2D(size=(2, 2))(conv6), conv3], axis=3)\n",
        "    conv7 = Conv2D(128*neuron_mul, (3, 3), activation='relu', padding='same')(up7)\n",
        "    conv7 = Conv2D(128*neuron_mul, (3, 3), activation='relu', padding='same')(conv7)\n",
        "    up8 = concatenate([UpSampling2D(size=(2, 2))(conv7), conv2], axis=3)\n",
        "    conv8 = Conv2D(64*neuron_mul, (3, 3), activation='relu', padding='same')(up8)\n",
        "    conv8 = Conv2D(64*neuron_mul, (3, 3), activation='relu', padding='same')(conv8)\n",
        "    up9 = concatenate([UpSampling2D(size=(2, 2))(conv8), conv1], axis=3)\n",
        "    conv9 = Conv2D(32*neuron_mul, (3, 3), activation='relu', padding='same')(up9)\n",
        "    conv9 = Conv2D(32*neuron_mul, (3, 3), activation='relu', padding='same')(conv9)\n",
        "    conv10 = Conv2D(num_class, (1, 1), activation='softmax')(conv9)\n",
        "    \n",
        "    model = Model(inputs=[inputs], outputs=[conv10])\n",
        "\n",
        "    return model"
      ]
    },
    {
      "cell_type": "code",
      "execution_count": null,
      "metadata": {
        "id": "EUyA4Z2yiDLi"
      },
      "outputs": [],
      "source": [
        "def double_conv_layer(x, size, dropout=0.40, batch_norm=True):\n",
        "\n",
        "    axis = 3\n",
        "    conv = Conv2D(size, (3, 3), padding='same')(x)\n",
        "    if batch_norm is True:\n",
        "        conv = BatchNormalization(axis=axis)(conv)\n",
        "    conv = Activation('relu')(conv)\n",
        "    conv = Conv2D(size, (3, 3), padding='same')(conv)\n",
        "    if batch_norm is True:\n",
        "        conv = BatchNormalization(axis=axis)(conv)\n",
        "    conv = Activation('relu')(conv)\n",
        "    if dropout > 0:\n",
        "        conv = SpatialDropout2D(dropout)(conv)\n",
        "    return conv\n",
        "\n",
        "\n",
        "def UNET_224(input_size, n_class):\n",
        "    dropout_val=0.50\n",
        "    inputs = Input(input_size)\n",
        "    filters = 32\n",
        "    axis = 3\n",
        "\n",
        "    conv_224 = double_conv_layer(inputs, filters)\n",
        "    pool_112 = MaxPooling2D(pool_size=(2, 2))(conv_224)\n",
        "\n",
        "    conv_112 = double_conv_layer(pool_112, 2*filters)\n",
        "    pool_56 = MaxPooling2D(pool_size=(2, 2))(conv_112)\n",
        "\n",
        "    conv_56 = double_conv_layer(pool_56, 4*filters)\n",
        "    pool_28 = MaxPooling2D(pool_size=(2, 2))(conv_56)\n",
        "\n",
        "    conv_28 = double_conv_layer(pool_28, 8*filters)\n",
        "    pool_14 = MaxPooling2D(pool_size=(2, 2))(conv_28)\n",
        "\n",
        "    conv_14 = double_conv_layer(pool_14, 16*filters)\n",
        "    pool_7 = MaxPooling2D(pool_size=(2, 2))(conv_14)\n",
        "\n",
        "    conv_7 = double_conv_layer(pool_7, 32*filters)\n",
        "\n",
        "    up_14 = concatenate([UpSampling2D(size=(2, 2))(conv_7), conv_14], axis=axis)\n",
        "    up_conv_14 = double_conv_layer(up_14, 16*filters)\n",
        "\n",
        "    up_28 = concatenate([UpSampling2D(size=(2, 2))(up_conv_14), conv_28], axis=axis)\n",
        "    up_conv_28 = double_conv_layer(up_28, 8*filters)\n",
        "\n",
        "    up_56 = concatenate([UpSampling2D(size=(2, 2))(up_conv_28), conv_56], axis=axis)\n",
        "    up_conv_56 = double_conv_layer(up_56, 4*filters)\n",
        "\n",
        "    up_112 = concatenate([UpSampling2D(size=(2, 2))(up_conv_56), conv_112], axis=axis)\n",
        "    up_conv_112 = double_conv_layer(up_112, 2*filters)\n",
        "\n",
        "    up_224 = concatenate([UpSampling2D(size=(2, 2))(up_conv_112), conv_224], axis=axis)\n",
        "    up_conv_224 = double_conv_layer(up_224, filters, dropout_val)\n",
        "\n",
        "    conv_final = Conv2D(n_class, (1, 1))(up_conv_224)\n",
        "    conv_final = Activation('softmax')(conv_final)\n",
        "\n",
        "    model = Model(inputs, conv_final, name=\"UNET_224\")\n",
        "\n",
        "    return model"
      ]
    },
    {
      "cell_type": "code",
      "execution_count": null,
      "metadata": {
        "id": "y1BnYMK2UGYJ"
      },
      "outputs": [],
      "source": [
        "def mask_rcnn(input_shape, num_classes):\n",
        "    # Сверточная базовая часть\n",
        "    input_tensor = Input(shape=input_shape)\n",
        "    x = Conv2D(32, (3, 3), activation='relu', padding='same')(input_tensor)\n",
        "    x = Conv2D(64, (3, 3), activation='relu', padding='same', strides=2)(x)\n",
        "    x = Conv2D(128, (3, 3), activation='relu', padding='same')(x)\n",
        "    x = Conv2D(128, (3, 3), activation='relu', padding='same', strides=2)(x)\n",
        "    x = Conv2D(256, (3, 3), activation='relu', padding='same')(x)\n",
        "    x = Conv2D(256, (3, 3), activation='relu', padding='same', strides=2)(x)\n",
        "    x = Conv2D(512, (3, 3), activation='relu', padding='same')(x)\n",
        "    x = Conv2D(512, (3, 3), activation='relu', padding='same')(x)\n",
        "    x = Conv2D(256, (3, 3), activation='relu', padding='same')(x)\n",
        "\n",
        "    # Сверточный слой Region Proposal Network (RPN)\n",
        "    rpn_conv = Conv2D(512, (3, 3), activation='relu', padding='same')(x)\n",
        "    rpn_class = Conv2D(2, (1, 1), activation='sigmoid')(rpn_conv)\n",
        "    rpn_bbox = Conv2D(4, (1, 1))(rpn_conv)\n",
        "\n",
        "    # Объекты RoI\n",
        "    rpn_rois = ProposalLayer()([rpn_class, rpn_bbox])\n",
        "\n",
        "    # Сверточная сеть для классификации объектов и создания масок\n",
        "    x = Conv2D(256, (3, 3), activation='relu', padding='same')(x)\n",
        "    x = BatchNormalization()(x)\n",
        "    x = Conv2D(256, (3, 3), activation='relu', padding='same')(x)\n",
        "    x = BatchNormalization()(x)\n",
        "    x = Conv2D(256, (3, 3), activation='relu', padding='same')(x)\n",
        "    x = BatchNormalization()(x)\n",
        "    x = Conv2D(256, (3, 3), activation='relu', padding='same')(x)\n",
        "    x = BatchNormalization()(x)\n",
        "\n",
        "    # Слой классификации объектов\n",
        "    object_class = Conv2D(num_classes, (1, 1), activation='softmax', name='object_class')(x)\n",
        "\n",
        "    # Слой создания масок объектов\n",
        "    x = Conv2D(256, (3, 3), activation='relu', padding='same')(x)\n",
        "    x = BatchNormalization()(x)\n",
        "    x = Conv2DTranspose(256, (2, 2), strides=(2, 2), activation='relu', padding='same')(x)\n",
        "    x = Conv2D(256, (3, 3), activation='relu', padding='same')(x)\n",
        "    x = BatchNormalization()(x)\n",
        "    x = Conv2D(256,(3, 3), activation='relu', padding='same')(x)\n",
        "    x = BatchNormalization()(x)\n",
        "    x = Conv2D(num_classes, (1, 1), activation='sigmoid', name='mask')(x)\n",
        "\n",
        "    # Сборка модели\n",
        "    model = Model(inputs=input_tensor, outputs=[object_class, x])\n",
        "    return model"
      ]
    },
    {
      "cell_type": "code",
      "execution_count": 6,
      "metadata": {
        "colab": {
          "base_uri": "https://localhost:8080/"
        },
        "id": "Wn3kuTiDh5Dy",
        "outputId": "5dc10f3b-bad1-4896-a72a-cad0c551e624"
      },
      "outputs": [
        {
          "name": "stdout",
          "output_type": "stream",
          "text": [
            "Model: \"model\"\n",
            "__________________________________________________________________________________________________\n",
            " Layer (type)                   Output Shape         Param #     Connected to                     \n",
            "==================================================================================================\n",
            " input_1 (InputLayer)           [(None, 1024, 1024,  0           []                               \n",
            "                                 1)]                                                              \n",
            "                                                                                                  \n",
            " conv2d (Conv2D)                (None, 1024, 1024,   640         ['input_1[0][0]']                \n",
            "                                64)                                                               \n",
            "                                                                                                  \n",
            " batch_normalization (BatchNorm  (None, 1024, 1024,   256        ['conv2d[0][0]']                 \n",
            " alization)                     64)                                                               \n",
            "                                                                                                  \n",
            " conv2d_1 (Conv2D)              (None, 1024, 1024,   36928       ['batch_normalization[0][0]']    \n",
            "                                64)                                                               \n",
            "                                                                                                  \n",
            " batch_normalization_1 (BatchNo  (None, 1024, 1024,   256        ['conv2d_1[0][0]']               \n",
            " rmalization)                   64)                                                               \n",
            "                                                                                                  \n",
            " max_pooling2d (MaxPooling2D)   (None, 512, 512, 64  0           ['batch_normalization_1[0][0]']  \n",
            "                                )                                                                 \n",
            "                                                                                                  \n",
            " conv2d_2 (Conv2D)              (None, 512, 512, 12  73856       ['max_pooling2d[0][0]']          \n",
            "                                8)                                                                \n",
            "                                                                                                  \n",
            " batch_normalization_2 (BatchNo  (None, 512, 512, 12  512        ['conv2d_2[0][0]']               \n",
            " rmalization)                   8)                                                                \n",
            "                                                                                                  \n",
            " conv2d_3 (Conv2D)              (None, 512, 512, 12  147584      ['batch_normalization_2[0][0]']  \n",
            "                                8)                                                                \n",
            "                                                                                                  \n",
            " batch_normalization_3 (BatchNo  (None, 512, 512, 12  512        ['conv2d_3[0][0]']               \n",
            " rmalization)                   8)                                                                \n",
            "                                                                                                  \n",
            " max_pooling2d_1 (MaxPooling2D)  (None, 256, 256, 12  0          ['batch_normalization_3[0][0]']  \n",
            "                                8)                                                                \n",
            "                                                                                                  \n",
            " conv2d_4 (Conv2D)              (None, 256, 256, 25  295168      ['max_pooling2d_1[0][0]']        \n",
            "                                6)                                                                \n",
            "                                                                                                  \n",
            " batch_normalization_4 (BatchNo  (None, 256, 256, 25  1024       ['conv2d_4[0][0]']               \n",
            " rmalization)                   6)                                                                \n",
            "                                                                                                  \n",
            " conv2d_5 (Conv2D)              (None, 256, 256, 25  590080      ['batch_normalization_4[0][0]']  \n",
            "                                6)                                                                \n",
            "                                                                                                  \n",
            " batch_normalization_5 (BatchNo  (None, 256, 256, 25  1024       ['conv2d_5[0][0]']               \n",
            " rmalization)                   6)                                                                \n",
            "                                                                                                  \n",
            " max_pooling2d_2 (MaxPooling2D)  (None, 128, 128, 25  0          ['batch_normalization_5[0][0]']  \n",
            "                                6)                                                                \n",
            "                                                                                                  \n",
            " conv2d_6 (Conv2D)              (None, 128, 128, 51  1180160     ['max_pooling2d_2[0][0]']        \n",
            "                                2)                                                                \n",
            "                                                                                                  \n",
            " batch_normalization_6 (BatchNo  (None, 128, 128, 51  2048       ['conv2d_6[0][0]']               \n",
            " rmalization)                   2)                                                                \n",
            "                                                                                                  \n",
            " conv2d_7 (Conv2D)              (None, 128, 128, 51  2359808     ['batch_normalization_6[0][0]']  \n",
            "                                2)                                                                \n",
            "                                                                                                  \n",
            " batch_normalization_7 (BatchNo  (None, 128, 128, 51  2048       ['conv2d_7[0][0]']               \n",
            " rmalization)                   2)                                                                \n",
            "                                                                                                  \n",
            " dropout (Dropout)              (None, 128, 128, 51  0           ['batch_normalization_7[0][0]']  \n",
            "                                2)                                                                \n",
            "                                                                                                  \n",
            " conv2d_8 (Conv2D)              (None, 128, 128, 51  2359808     ['dropout[0][0]']                \n",
            "                                2)                                                                \n",
            "                                                                                                  \n",
            " batch_normalization_8 (BatchNo  (None, 128, 128, 51  2048       ['conv2d_8[0][0]']               \n",
            " rmalization)                   2)                                                                \n",
            "                                                                                                  \n",
            " conv2d_9 (Conv2D)              (None, 128, 128, 51  2359808     ['batch_normalization_8[0][0]']  \n",
            "                                2)                                                                \n",
            "                                                                                                  \n",
            " batch_normalization_9 (BatchNo  (None, 128, 128, 51  2048       ['conv2d_9[0][0]']               \n",
            " rmalization)                   2)                                                                \n",
            "                                                                                                  \n",
            " dropout_1 (Dropout)            (None, 128, 128, 51  0           ['batch_normalization_9[0][0]']  \n",
            "                                2)                                                                \n",
            "                                                                                                  \n",
            " up_sampling2d (UpSampling2D)   (None, 256, 256, 51  0           ['dropout_1[0][0]']              \n",
            "                                2)                                                                \n",
            "                                                                                                  \n",
            " conv2d_10 (Conv2D)             (None, 256, 256, 25  524544      ['up_sampling2d[0][0]']          \n",
            "                                6)                                                                \n",
            "                                                                                                  \n",
            " concatenate (Concatenate)      (None, 256, 256, 51  0           ['batch_normalization_5[0][0]',  \n",
            "                                2)                                'conv2d_10[0][0]']              \n",
            "                                                                                                  \n",
            " conv2d_11 (Conv2D)             (None, 256, 256, 25  1179904     ['concatenate[0][0]']            \n",
            "                                6)                                                                \n",
            "                                                                                                  \n",
            " conv2d_12 (Conv2D)             (None, 256, 256, 25  590080      ['conv2d_11[0][0]']              \n",
            "                                6)                                                                \n",
            "                                                                                                  \n",
            " up_sampling2d_1 (UpSampling2D)  (None, 512, 512, 25  0          ['conv2d_12[0][0]']              \n",
            "                                6)                                                                \n",
            "                                                                                                  \n",
            " conv2d_13 (Conv2D)             (None, 512, 512, 12  131200      ['up_sampling2d_1[0][0]']        \n",
            "                                8)                                                                \n",
            "                                                                                                  \n",
            " concatenate_1 (Concatenate)    (None, 512, 512, 25  0           ['batch_normalization_3[0][0]',  \n",
            "                                6)                                'conv2d_13[0][0]']              \n",
            "                                                                                                  \n",
            " conv2d_14 (Conv2D)             (None, 512, 512, 12  295040      ['concatenate_1[0][0]']          \n",
            "                                8)                                                                \n",
            "                                                                                                  \n",
            " conv2d_15 (Conv2D)             (None, 512, 512, 12  147584      ['conv2d_14[0][0]']              \n",
            "                                8)                                                                \n",
            "                                                                                                  \n",
            " up_sampling2d_2 (UpSampling2D)  (None, 1024, 1024,   0          ['conv2d_15[0][0]']              \n",
            "                                128)                                                              \n",
            "                                                                                                  \n",
            " conv2d_16 (Conv2D)             (None, 1024, 1024,   32832       ['up_sampling2d_2[0][0]']        \n",
            "                                64)                                                               \n",
            "                                                                                                  \n",
            " concatenate_2 (Concatenate)    (None, 1024, 1024,   0           ['batch_normalization_1[0][0]',  \n",
            "                                128)                              'conv2d_16[0][0]']              \n",
            "                                                                                                  \n",
            " conv2d_17 (Conv2D)             (None, 1024, 1024,   73792       ['concatenate_2[0][0]']          \n",
            "                                64)                                                               \n",
            "                                                                                                  \n",
            " conv2d_18 (Conv2D)             (None, 1024, 1024,   36928       ['conv2d_17[0][0]']              \n",
            "                                64)                                                               \n",
            "                                                                                                  \n",
            " conv2d_19 (Conv2D)             (None, 1024, 1024,   390         ['conv2d_18[0][0]']              \n",
            "                                6)                                                                \n",
            "                                                                                                  \n",
            "==================================================================================================\n",
            "Total params: 12,427,910\n",
            "Trainable params: 12,422,022\n",
            "Non-trainable params: 5,888\n",
            "__________________________________________________________________________________________________\n"
          ]
        }
      ],
      "source": [
        "model = unet((img_width,img_height,img_channels), num_class)\n",
        "# model = mask_rcnn((img_width,img_height,img_channels), num_class)\n",
        "\n",
        "model.compile(optimizer = Adam(learning_rate = 0.001), loss = ['binary_crossentropy', jaccard_distance], metrics = ['accuracy', dice_coef])\n",
        "# model.compile(optimizer=Adam(learning_rate = 0.001), \n",
        "#               loss={\"object_class\": \"categorical_crossentropy\",\"mask\": \"binary_crossentropy\"}, \n",
        "#               loss_weights={\"object_class\": 1.0,\"mask\": 1.0},\n",
        "#               metrics={\"object_class\": \"accuracy\",\"mask\": \"accuracy\"})\n",
        "# model.compile(optimizer = Adam(learning_rate = 0.0001), loss= [jaccard_distance], metrics=[iou, dice_coef, precision, recall, accuracy])\n",
        "# model.compile(optimizer = Adam(learning_rate = 0.001), loss= [dice_coef_loss], metrics=[dice_coef])\n",
        "model.summary()"
      ]
    },
    {
      "cell_type": "code",
      "execution_count": 13,
      "metadata": {
        "colab": {
          "base_uri": "https://localhost:8080/"
        },
        "id": "ko5JiXJyh5Dz",
        "outputId": "22475c1f-6037-45e1-d9d7-aba6153dcf4d"
      },
      "outputs": [
        {
          "name": "stdout",
          "output_type": "stream",
          "text": [
            "Found 20 images belonging to 1 classes.\n",
            "Found 100 images belonging to 5 classes.\n"
          ]
        },
        {
          "data": {
            "text/plain": [
              "array([[[[0.        ],\n",
              "         [0.00392157],\n",
              "         [0.00392157],\n",
              "         ...,\n",
              "         [0.        ],\n",
              "         [0.00784314],\n",
              "         [0.        ]],\n",
              "\n",
              "        [[0.00392157],\n",
              "         [1.        ],\n",
              "         [0.9960785 ],\n",
              "         ...,\n",
              "         [0.9960785 ],\n",
              "         [1.        ],\n",
              "         [0.00392157]],\n",
              "\n",
              "        [[0.00392157],\n",
              "         [1.        ],\n",
              "         [0.9960785 ],\n",
              "         ...,\n",
              "         [0.9960785 ],\n",
              "         [1.        ],\n",
              "         [0.00392157]],\n",
              "\n",
              "        ...,\n",
              "\n",
              "        [[0.5686275 ],\n",
              "         [1.        ],\n",
              "         [0.9921569 ],\n",
              "         ...,\n",
              "         [0.9960785 ],\n",
              "         [1.        ],\n",
              "         [0.        ]],\n",
              "\n",
              "        [[0.5686275 ],\n",
              "         [1.        ],\n",
              "         [0.9921569 ],\n",
              "         ...,\n",
              "         [0.9960785 ],\n",
              "         [1.        ],\n",
              "         [0.        ]],\n",
              "\n",
              "        [[0.5764706 ],\n",
              "         [0.5647059 ],\n",
              "         [0.5803922 ],\n",
              "         ...,\n",
              "         [0.00392157],\n",
              "         [0.        ],\n",
              "         [0.00392157]]]], dtype=float32)"
            ]
          },
          "execution_count": 13,
          "metadata": {},
          "output_type": "execute_result"
        }
      ],
      "source": [
        "image_datagen = ImageDataGenerator(\n",
        "        # rotation_range=0.3,\n",
        "        rescale=1./255\n",
        "        # width_shift_range=0.2,\n",
        "        # height_shift_range=0.2,\n",
        "        # shear_range=0.1,\n",
        "        # zoom_range=[0.7,1],\n",
        "        # horizontal_flip=True,\n",
        "        # vertical_flip=True,\n",
        "        # fill_mode='nearest'\n",
        "        )\n",
        "\n",
        "mask_datagen = ImageDataGenerator(\n",
        "        # rotation_range=0.3,\n",
        "        rescale=1./255\n",
        "        # width_shift_range=0.2,\n",
        "        # height_shift_range=0.2,\n",
        "        # shear_range=0.1,\n",
        "        # zoom_range=[0.7,1],\n",
        "        # horizontal_flip=True,\n",
        "        # vertical_flip=True,\n",
        "        # fill_mode='nearest'\n",
        "    )\n",
        "image_generator = image_datagen.flow_from_directory(\n",
        "        train_dir,\n",
        "        classes = [\"images\"],\n",
        "        color_mode = 'grayscale',\n",
        "        target_size = (img_width, img_height),\n",
        "        batch_size = batch_size,\n",
        "        class_mode=None,\n",
        "        seed = 1)\n",
        "mask_generator = mask_datagen.flow_from_directory(\n",
        "        train_dir+\"masks\",\n",
        "        classes = ['bolts','nuts','washers', 'seals', 'bearings'],\n",
        "        color_mode = 'grayscale',\n",
        "        target_size = (img_width, img_height),\n",
        "        batch_size = batch_size,\n",
        "        class_mode='categorical',\n",
        "        seed = 1)\n",
        "\n",
        "\n",
        "train_generator = zip(image_generator, mask_generator)\n",
        "x,y=next(train_generator)\n",
        "x"
      ]
    },
    {
      "cell_type": "code",
      "execution_count": 6,
      "metadata": {
        "colab": {
          "base_uri": "https://localhost:8080/"
        },
        "id": "0Tow7JIzE5OT",
        "outputId": "93695436-5f20-4f61-ca9c-0b414a8cce3c"
      },
      "outputs": [
        {
          "name": "stderr",
          "output_type": "stream",
          "text": [
            "100%|██████████| 20/20 [15:36<00:00, 46.84s/it]\n"
          ]
        },
        {
          "name": "stdout",
          "output_type": "stream",
          "text": [
            "(20, 1024, 1024, 1)\n",
            "(20, 1024, 1024, 6)\n"
          ]
        }
      ],
      "source": [
        "from tqdm import tqdm\n",
        "\n",
        "def load_data(image_folder, mask_folder, class_names):\n",
        "    \"\"\"\n",
        "    Функция для загрузки изображений и масок из папок.\n",
        "    :param image_folder: путь к папке с изображениями.\n",
        "    :param mask_folder: путь к папке с масками.\n",
        "    :return: кортеж (x_train, y_train), содержащий массивы изображений и масок.\n",
        "    \"\"\"\n",
        "    x_train = []\n",
        "    y_train = []\n",
        "    for filename in tqdm(os.listdir(image_folder)):\n",
        "        img = cv2.imread(os.path.join(image_folder, filename), cv2.IMREAD_GRAYSCALE)\n",
        "        img=cv2.resize(img, (img_width, img_height))\n",
        "        x_train.append(img)\n",
        "  \n",
        "\n",
        "        mask_one_hot = np.zeros((img_height, img_width, num_class), dtype=np.float32)\n",
        "\n",
        "        for class_name in class_names:\n",
        "          class_index=class_names.index(class_name)\n",
        "\n",
        "          mask = cv2.imread(os.path.join(mask_folder, class_name, filename), cv2.IMREAD_GRAYSCALE)\n",
        "          mask=cv2.resize(mask, (img_width, img_height))\n",
        "        \n",
        "          for row in range(mask.shape[0]):\n",
        "            for col in range(mask.shape[1]):\n",
        "              if mask[row][col] > 10:\n",
        "                if(mask_one_hot[row][col][-1] == 1.0): mask_one_hot[row][col][-1] = 0.0\n",
        "                if(not np.any(mask_one_hot[row][col] == 1.0)): mask_one_hot[row][col][class_index] = 1.0\n",
        "              else:\n",
        "                mask_one_hot[row][col][class_index] = 0.0\n",
        "              if(np.all(mask_one_hot[row][col] == 0.0)): mask_one_hot[row][col][-1] = 1.0\n",
        "              \n",
        "              \n",
        "        y_train.append(mask_one_hot)\n",
        "        \n",
        "    \n",
        "    x_train=np.array(x_train)/255.0\n",
        "    x_train=x_train.reshape((-1,img_height,img_width,1))\n",
        "    y_train=np.array(y_train)\n",
        "    y_train=y_train.reshape((-1,img_height,img_width,num_class))\n",
        "\n",
        "    return x_train, y_train\n",
        "\n",
        "class_names=['bolts/','nuts/','washers/', 'seals/', 'bearings/']\n",
        "x_train, y_train = load_data(train_dir+'images/', train_dir+'masks/', class_names)\n",
        "print(x_train.shape)\n",
        "print(y_train.shape)\n",
        "\n",
        "\n",
        "np.save(\"images\", x_train)\n",
        "np.save(\"labels\", y_train)"
      ]
    },
    {
      "cell_type": "code",
      "execution_count": 7,
      "metadata": {
        "id": "ehaim9N_qOxN"
      },
      "outputs": [],
      "source": [
        "\n",
        "x_train=np.load(\"images.npy\")\n",
        "y_train=np.load(\"labels.npy\")"
      ]
    },
    {
      "cell_type": "code",
      "execution_count": 8,
      "metadata": {
        "colab": {
          "base_uri": "https://localhost:8080/",
          "height": 452
        },
        "id": "PWfDLQUIq5or",
        "outputId": "a09b24e3-1853-44b6-a428-c43bfa855a54"
      },
      "outputs": [
        {
          "data": {
            "text/plain": [
              "<matplotlib.image.AxesImage at 0x2265b15f610>"
            ]
          },
          "execution_count": 8,
          "metadata": {},
          "output_type": "execute_result"
        },
        {
          "data": {
            "image/png": "[encoded data removed]",
            "text/plain": [
              "<Figure size 640x480 with 1 Axes>"
            ]
          },
          "metadata": {},
          "output_type": "display_data"
        }
      ],
      "source": [
        "plt.imshow(x_train[0], cmap='gray')"
      ]
    },
    {
      "cell_type": "code",
      "execution_count": 9,
      "metadata": {
        "colab": {
          "base_uri": "https://localhost:8080/",
          "height": 452
        },
        "id": "ubAoZwKnQFLJ",
        "outputId": "35821f0a-ca3f-49c1-f4ad-f5b8d7922a80"
      },
      "outputs": [
        {
          "data": {
            "text/plain": [
              "<matplotlib.image.AxesImage at 0x2265b640730>"
            ]
          },
          "execution_count": 9,
          "metadata": {},
          "output_type": "execute_result"
        },
        {
          "data": {
            "image/png": "[encoded data removed]",
            "text/plain": [
              "<Figure size 640x480 with 1 Axes>"
            ]
          },
          "metadata": {},
          "output_type": "display_data"
        }
      ],
      "source": [
        "# x,y=next(train_generator)\n",
        "\n",
        "plt.imshow(y_train[0][:,:,0], cmap='gray')"
      ]
    },
    {
      "cell_type": "code",
      "execution_count": 10,
      "metadata": {
        "colab": {
          "base_uri": "https://localhost:8080/"
        },
        "id": "t2K4Af-uh5D0",
        "outputId": "b0476495-3326-4a45-965a-03f7e1c8664f"
      },
      "outputs": [
        {
          "name": "stdout",
          "output_type": "stream",
          "text": [
            "Epoch 1/20\n"
          ]
        }
      ],
      "source": [
        "model.fit(x_train, y_train,steps_per_epoch=train_samples//batch_size,epochs=epochs,batch_size=batch_size)"
      ]
    },
    {
      "cell_type": "code",
      "execution_count": null,
      "metadata": {
        "id": "gZuixYqNh5D0"
      },
      "outputs": [],
      "source": [
        "model.save('cad_segmentation.h5')"
      ]
    },
    {
      "cell_type": "code",
      "execution_count": null,
      "metadata": {
        "id": "LsYqP30RiiJQ"
      },
      "outputs": [],
      "source": [
        "model = load_model('cad_segmentation.h5')"
      ]
    },
    {
      "cell_type": "code",
      "execution_count": null,
      "metadata": {
        "colab": {
          "base_uri": "https://localhost:8080/"
        },
        "id": "u39UCpgcId2K",
        "outputId": "bf29c2b5-dfe4-44ea-e00c-a26f535e53c7"
      },
      "outputs": [
        {
          "name": "stderr",
          "output_type": "stream",
          "text": [
            "WARNING:tensorflow:6 out of the last 6 calls to <function Model.make_predict_function.<locals>.predict_function at 0x7f38f20737f0> triggered tf.function retracing. Tracing is expensive and the excessive number of tracings could be due to (1) creating @tf.function repeatedly in a loop, (2) passing tensors with different shapes, (3) passing Python objects instead of tensors. For (1), please define your @tf.function outside of the loop. For (2), @tf.function has reduce_retracing=True option that can avoid unnecessary retracing. For (3), please refer to https://www.tensorflow.org/guide/function#controlling_retracing and https://www.tensorflow.org/api_docs/python/tf/function for  more details.\n"
          ]
        },
        {
          "name": "stdout",
          "output_type": "stream",
          "text": [
            "1/1 [==============================] - 0s 287ms/step\n",
            "(1, 1024, 1024, 6)\n"
          ]
        }
      ],
      "source": [
        "img = cv2.imread(\"1.jpg\", cv2.IMREAD_GRAYSCALE)\n",
        "img=cv2.resize(img, (img_width, img_height)).reshape(1,1024,1024)\n",
        "\n",
        "pred=model.predict(img)\n",
        "print(pred.shape)"
      ]
    },
    {
      "cell_type": "code",
      "execution_count": null,
      "metadata": {
        "colab": {
          "base_uri": "https://localhost:8080/"
        },
        "id": "cLxwYPx-jNvM",
        "outputId": "3cba259a-809d-4bac-d995-2da19d489ad0"
      },
      "outputs": [
        {
          "name": "stdout",
          "output_type": "stream",
          "text": [
            "[[[0. 0. 0. 0. 0. 1.]\n",
            "  [0. 0. 0. 0. 0. 1.]\n",
            "  [0. 0. 0. 0. 0. 1.]\n",
            "  ...\n",
            "  [0. 0. 0. 0. 0. 1.]\n",
            "  [0. 0. 0. 0. 0. 1.]\n",
            "  [0. 0. 0. 0. 0. 1.]]\n",
            "\n",
            " [[0. 0. 0. 0. 0. 1.]\n",
            "  [0. 0. 0. 0. 0. 1.]\n",
            "  [0. 0. 0. 0. 0. 1.]\n",
            "  ...\n",
            "  [0. 0. 0. 0. 0. 1.]\n",
            "  [0. 0. 0. 0. 0. 1.]\n",
            "  [0. 0. 0. 0. 0. 1.]]\n",
            "\n",
            " [[0. 0. 0. 0. 0. 1.]\n",
            "  [0. 0. 0. 0. 0. 1.]\n",
            "  [0. 0. 0. 0. 0. 1.]\n",
            "  ...\n",
            "  [0. 0. 0. 0. 0. 1.]\n",
            "  [0. 0. 0. 0. 0. 1.]\n",
            "  [0. 0. 0. 0. 0. 1.]]\n",
            "\n",
            " ...\n",
            "\n",
            " [[0. 0. 0. 0. 0. 1.]\n",
            "  [0. 0. 0. 0. 0. 1.]\n",
            "  [0. 0. 0. 0. 0. 1.]\n",
            "  ...\n",
            "  [0. 0. 0. 0. 0. 1.]\n",
            "  [0. 0. 0. 0. 0. 1.]\n",
            "  [0. 0. 0. 0. 0. 1.]]\n",
            "\n",
            " [[0. 0. 0. 0. 0. 1.]\n",
            "  [0. 0. 0. 0. 0. 1.]\n",
            "  [0. 0. 0. 0. 0. 1.]\n",
            "  ...\n",
            "  [0. 0. 0. 0. 0. 1.]\n",
            "  [0. 0. 0. 0. 0. 1.]\n",
            "  [0. 0. 0. 0. 0. 1.]]\n",
            "\n",
            " [[0. 0. 0. 0. 0. 1.]\n",
            "  [0. 0. 0. 0. 0. 1.]\n",
            "  [0. 0. 0. 0. 0. 1.]\n",
            "  ...\n",
            "  [0. 0. 0. 0. 0. 1.]\n",
            "  [0. 0. 0. 0. 0. 1.]\n",
            "  [0. 0. 0. 0. 0. 1.]]]\n"
          ]
        }
      ],
      "source": [
        "print(pred[0])"
      ]
    },
    {
      "cell_type": "code",
      "execution_count": null,
      "metadata": {
        "colab": {
          "base_uri": "https://localhost:8080/",
          "height": 452
        },
        "id": "AAIKtRHNKEe-",
        "outputId": "8390c53f-ebb3-4fad-96d6-52c016a839e6"
      },
      "outputs": [
        {
          "data": {
            "text/plain": [
              "<matplotlib.image.AxesImage at 0x7f38c0dca740>"
            ]
          },
          "execution_count": 60,
          "metadata": {},
          "output_type": "execute_result"
        },
        {
          "data": {
            "image/png": "[encoded data removed]",
            "text/plain": [
              "<Figure size 640x480 with 1 Axes>"
            ]
          },
          "metadata": {},
          "output_type": "display_data"
        }
      ],
      "source": [
        "\n",
        "# plt.imshow(pred.reshape(1024,1024,1))\n",
        "plt.imshow(pred[0][:,:,0], cmap='gray')"
      ]
    },
    {
      "cell_type": "code",
      "execution_count": null,
      "metadata": {
        "colab": {
          "base_uri": "https://localhost:8080/",
          "height": 252
        },
        "id": "Zf5Wd6BZh5D1",
        "outputId": "ac0a22e6-be23-43d6-9cae-713a8c4209e1"
      },
      "outputs": [
        {
          "ename": "error",
          "evalue": "ignored",
          "output_type": "error",
          "traceback": [
            "\u001b[0;31m---------------------------------------------------------------------------\u001b[0m",
            "\u001b[0;31merror\u001b[0m                                     Traceback (most recent call last)",
            "\u001b[0;32m<ipython-input-113-9c463a979a84>\u001b[0m in \u001b[0;36m<cell line: 8>\u001b[0;34m()\u001b[0m\n\u001b[1;32m     10\u001b[0m     \u001b[0mmask\u001b[0m \u001b[0;34m=\u001b[0m \u001b[0mpred\u001b[0m\u001b[0;34m[\u001b[0m\u001b[0;34m:\u001b[0m\u001b[0;34m,\u001b[0m \u001b[0;34m:\u001b[0m\u001b[0;34m,\u001b[0m \u001b[0mi\u001b[0m\u001b[0;34m]\u001b[0m\u001b[0;34m*\u001b[0m\u001b[0;36m255\u001b[0m\u001b[0;34m\u001b[0m\u001b[0;34m\u001b[0m\u001b[0m\n\u001b[1;32m     11\u001b[0m     \u001b[0;31m# Поиск контуров на маске\u001b[0m\u001b[0;34m\u001b[0m\u001b[0;34m\u001b[0m\u001b[0m\n\u001b[0;32m---> 12\u001b[0;31m     \u001b[0mcontours\u001b[0m\u001b[0;34m,\u001b[0m \u001b[0m_\u001b[0m \u001b[0;34m=\u001b[0m \u001b[0mcv2\u001b[0m\u001b[0;34m.\u001b[0m\u001b[0mfindContours\u001b[0m\u001b[0;34m(\u001b[0m\u001b[0mmask\u001b[0m\u001b[0;34m,\u001b[0m \u001b[0mcv2\u001b[0m\u001b[0;34m.\u001b[0m\u001b[0mRETR_EXTERNAL\u001b[0m\u001b[0;34m,\u001b[0m \u001b[0mcv2\u001b[0m\u001b[0;34m.\u001b[0m\u001b[0mCHAIN_APPROX_SIMPLE\u001b[0m\u001b[0;34m)\u001b[0m\u001b[0;34m\u001b[0m\u001b[0;34m\u001b[0m\u001b[0m\n\u001b[0m\u001b[1;32m     13\u001b[0m     \u001b[0;31m# Рисование прямоугольников и надписей для каждого контура\u001b[0m\u001b[0;34m\u001b[0m\u001b[0;34m\u001b[0m\u001b[0m\n\u001b[1;32m     14\u001b[0m     \u001b[0;32mfor\u001b[0m \u001b[0mc\u001b[0m \u001b[0;32min\u001b[0m \u001b[0mcontours\u001b[0m\u001b[0;34m:\u001b[0m\u001b[0;34m\u001b[0m\u001b[0;34m\u001b[0m\u001b[0m\n",
            "\u001b[0;31merror\u001b[0m: OpenCV(4.7.0) /io/opencv/modules/imgproc/src/contours.cpp:195: error: (-210:Unsupported format or combination of formats) [Start]FindContours supports only CV_8UC1 images when mode != CV_RETR_FLOODFILL otherwise supports CV_32SC1 images only in function 'cvStartFindContours_Impl'\n"
          ]
        }
      ],
      "source": [
        "\n",
        "# Определение классов\n",
        "class_names = ['bolts','nuts','washers', 'seals', 'bearings']\n",
        "\n",
        "# Определение порога вероятности для классификации\n",
        "threshold = 0.5\n",
        "\n",
        "# Рисование прямоугольников и надписей на изображении\n",
        "for i in range(len(class_names)):\n",
        "    # Получение маски для текущего класса\n",
        "    mask = pred[:, :, i]\n",
        "    # Поиск контуров на маске\n",
        "    contours, _ = cv2.findContours(mask, cv2.RETR_EXTERNAL, cv2.CHAIN_APPROX_SIMPLE)\n",
        "    # Рисование прямоугольников и надписей для каждого контура\n",
        "    for c in contours:\n",
        "        # Вычисление координат и размеров прямоугольника\n",
        "        x, y, w, h = cv2.boundingRect(c)\n",
        "        # Рисование прямоугольника\n",
        "        cv2.rectangle(img, (x, y), (x+w, y+h), (0, 255, 0), 2)\n",
        "        # Надпись с классом и вероятностью\n",
        "        label = f\"{class_names[i]}: {pred[y:y+h, x:x+w, i].max():.2f}\"\n",
        "        cv2.putText(img, label, (x, y-5), cv2.FONT_HERSHEY_SIMPLEX, 0.5, (0, 255, 0), 2)\n",
        "\n",
        "# Отображение изображения с прямоугольниками и надписями\n",
        "cv2.imshow('Predicted Image', img)"
      ]
    }
  ],
  "metadata": {
    "accelerator": "GPU",
    "colab": {
      "gpuType": "T4",
      "provenance": []
    },
    "gpuClass": "standard",
    "kernelspec": {
      "display_name": "Python 3",
      "language": "python",
      "name": "python3"
    },
    "language_info": {
      "codemirror_mode": {
        "name": "ipython",
        "version": 3
      },
      "file_extension": ".py",
      "mimetype": "text/x-python",
      "name": "python",
      "nbconvert_exporter": "python",
      "pygments_lexer": "ipython3",
      "version": "3.10.7"
    }
  },
  "nbformat": 4,
  "nbformat_minor": 0
}
